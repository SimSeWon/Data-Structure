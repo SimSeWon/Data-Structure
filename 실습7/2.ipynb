{
 "cells": [
  {
   "cell_type": "code",
   "execution_count": 1,
   "metadata": {},
   "outputs": [],
   "source": [
    "class DNode:\n",
    "    def __init__(self, item, prev=None, next=None):\n",
    "        self.item=item\n",
    "        self.prev=prev\n",
    "        self.next=next"
   ]
  },
  {
   "cell_type": "code",
   "execution_count": 3,
   "metadata": {},
   "outputs": [],
   "source": [
    "class CircularDoublyLinkedList:\n",
    "    def __init__(self):\n",
    "        self.head=None\n",
    "\n",
    "    def isEmpty(self):return self.head==None\n",
    "    def clear(self):self.head=self.rear=None\n",
    "    \n",
    "    def addFront(self, item):\n",
    "        node=DNode(item)\n",
    "        if (self.isEmpty()):\n",
    "            self.head=node\n",
    "            self.head.prev=node\n",
    "            self.head.next=node\n",
    "\n",
    "        else:\n",
    "            node.prev=self.head.prev\n",
    "            node.next=self.head\n",
    "            self.head.prev.next=node\n",
    "            self.head.prev=node\n",
    "            self.head=node\n",
    "\n",
    "    def addRear(self, item):\n",
    "        node=DNode(item, self.rear,None)\n",
    "        if(self.isEmpty()):\n",
    "            self.head=self.rear=node\n",
    "        else:\n",
    "            self.rear.next=node\n",
    "            self.rear=node\n",
    "\n",
    "    def deleteFront(self):\n",
    "        if not self.isEmpty():\n",
    "            item=self.head.item\n",
    "            self.head=self.head.next\n",
    "            if self.head==None:\n",
    "                self.rear=None\n",
    "            else:\n",
    "                self.head.prev=None\n",
    "            return item\n",
    "\n",
    "    def deleteRear(self):\n",
    "        if not self.isEmpty():\n",
    "            item=self.rear.item\n",
    "            self.rear=self.rear.prev\n",
    "            if self.rear==None:\n",
    "                self.head=None\n",
    "            else:\n",
    "                self.rear.next=None\n",
    "            return item\n",
    "\n",
    "    def peekFront(self):\n",
    "        if not self.isEmpty():\n",
    "            return self.head.item\n",
    "    def peekRear(self):\n",
    "        if not self.isEmpty():\n",
    "            return self.rear.item\n",
    "    def size(self):\n",
    "        if self.head is None:\n",
    "            return 0\n",
    "        count=1\n",
    "        tmp=self.head\n",
    "        while tmp is not self.head.prev:\n",
    "            count+=1\n",
    "            tmp=tmp.next\n",
    "        return count\n",
    "        \n",
    "    def print(self):\n",
    "        node=self.head\n",
    "        while not node==None:\n",
    "            print(node.item, end=' ')\n",
    "            node=node.next\n",
    "        print()\n",
    "\n",
    "    def revPrint(self):       #역순출력\n",
    "        node=self.rear\n",
    "        while not node==None:\n",
    "            print(node.item, end=' ')\n",
    "            node=node.prev\n",
    "        print()"
   ]
  },
  {
   "cell_type": "code",
   "execution_count": 4,
   "metadata": {},
   "outputs": [],
   "source": [
    "def main():\n",
    "    dq=CircularDoublyLinkedList()\n",
    "    print(\"Enter a command: af(addFront, df(deleteFront), pf(peekFront), s(size)\")\n",
    "    print(\"ar(addRear), dr(deleteRear), pr(peekRear), rp(reversePrint), q(uit)\")\n",
    "\n",
    "    while True:\n",
    "        print(\"> \", end='')\n",
    "        line=input().split()\n",
    "        command=line[0]\n",
    "        if command=='af':\n",
    "            item=line[1]\n",
    "            dq.addFront(item)\n",
    "        elif command=='df':\n",
    "            print(dq.deleteFront())\n",
    "        elif command=='pf':\n",
    "            print(dq.peekFront())\n",
    "        elif command=='ar':\n",
    "            item=line[1]\n",
    "            dq.addRear(item)\n",
    "        elif command=='dr':\n",
    "            print(dq.deleteRear())\n",
    "        elif command=='pr':\n",
    "            print(dq.peekRear())    \n",
    "        elif command=='p':\n",
    "            dq.print()    \n",
    "        elif command=='rp':\n",
    "            dq.revPrint()\n",
    "        elif command=='s':\n",
    "            print(\"size: \", dq.size())\n",
    "        elif command=='q':\n",
    "            break        \n",
    "\n"
   ]
  },
  {
   "cell_type": "code",
   "execution_count": 5,
   "metadata": {},
   "outputs": [
    {
     "name": "stdout",
     "output_type": "stream",
     "text": [
      "Enter a command: af(addFront, df(deleteFront), pf(peekFront), s(size)\n",
      "ar(addRear), dr(deleteRear), pr(peekRear), rp(reversePrint), q(uit)\n",
      "> "
     ]
    },
    {
     "ename": "AttributeError",
     "evalue": "'CircularDoublyLinkedList' object has no attribute 'rear'",
     "output_type": "error",
     "traceback": [
      "\u001b[1;31m---------------------------------------------------------------------------\u001b[0m",
      "\u001b[1;31mAttributeError\u001b[0m                            Traceback (most recent call last)",
      "\u001b[1;32m~\\AppData\\Local\\Temp/ipykernel_10728/451043146.py\u001b[0m in \u001b[0;36m<module>\u001b[1;34m\u001b[0m\n\u001b[1;32m----> 1\u001b[1;33m \u001b[0mmain\u001b[0m\u001b[1;33m(\u001b[0m\u001b[1;33m)\u001b[0m\u001b[1;33m\u001b[0m\u001b[1;33m\u001b[0m\u001b[0m\n\u001b[0m",
      "\u001b[1;32m~\\AppData\\Local\\Temp/ipykernel_10728/1556643322.py\u001b[0m in \u001b[0;36mmain\u001b[1;34m()\u001b[0m\n\u001b[0;32m     17\u001b[0m         \u001b[1;32melif\u001b[0m \u001b[0mcommand\u001b[0m\u001b[1;33m==\u001b[0m\u001b[1;34m'ar'\u001b[0m\u001b[1;33m:\u001b[0m\u001b[1;33m\u001b[0m\u001b[1;33m\u001b[0m\u001b[0m\n\u001b[0;32m     18\u001b[0m             \u001b[0mitem\u001b[0m\u001b[1;33m=\u001b[0m\u001b[0mline\u001b[0m\u001b[1;33m[\u001b[0m\u001b[1;36m1\u001b[0m\u001b[1;33m]\u001b[0m\u001b[1;33m\u001b[0m\u001b[1;33m\u001b[0m\u001b[0m\n\u001b[1;32m---> 19\u001b[1;33m             \u001b[0mdq\u001b[0m\u001b[1;33m.\u001b[0m\u001b[0maddRear\u001b[0m\u001b[1;33m(\u001b[0m\u001b[0mitem\u001b[0m\u001b[1;33m)\u001b[0m\u001b[1;33m\u001b[0m\u001b[1;33m\u001b[0m\u001b[0m\n\u001b[0m\u001b[0;32m     20\u001b[0m         \u001b[1;32melif\u001b[0m \u001b[0mcommand\u001b[0m\u001b[1;33m==\u001b[0m\u001b[1;34m'dr'\u001b[0m\u001b[1;33m:\u001b[0m\u001b[1;33m\u001b[0m\u001b[1;33m\u001b[0m\u001b[0m\n\u001b[0;32m     21\u001b[0m             \u001b[0mprint\u001b[0m\u001b[1;33m(\u001b[0m\u001b[0mdq\u001b[0m\u001b[1;33m.\u001b[0m\u001b[0mdeleteRear\u001b[0m\u001b[1;33m(\u001b[0m\u001b[1;33m)\u001b[0m\u001b[1;33m)\u001b[0m\u001b[1;33m\u001b[0m\u001b[1;33m\u001b[0m\u001b[0m\n",
      "\u001b[1;32m~\\AppData\\Local\\Temp/ipykernel_10728/2669293395.py\u001b[0m in \u001b[0;36maddRear\u001b[1;34m(self, item)\u001b[0m\n\u001b[0;32m     21\u001b[0m \u001b[1;33m\u001b[0m\u001b[0m\n\u001b[0;32m     22\u001b[0m     \u001b[1;32mdef\u001b[0m \u001b[0maddRear\u001b[0m\u001b[1;33m(\u001b[0m\u001b[0mself\u001b[0m\u001b[1;33m,\u001b[0m \u001b[0mitem\u001b[0m\u001b[1;33m)\u001b[0m\u001b[1;33m:\u001b[0m\u001b[1;33m\u001b[0m\u001b[1;33m\u001b[0m\u001b[0m\n\u001b[1;32m---> 23\u001b[1;33m         \u001b[0mnode\u001b[0m\u001b[1;33m=\u001b[0m\u001b[0mDNode\u001b[0m\u001b[1;33m(\u001b[0m\u001b[0mitem\u001b[0m\u001b[1;33m,\u001b[0m \u001b[0mself\u001b[0m\u001b[1;33m.\u001b[0m\u001b[0mrear\u001b[0m\u001b[1;33m,\u001b[0m\u001b[1;32mNone\u001b[0m\u001b[1;33m)\u001b[0m\u001b[1;33m\u001b[0m\u001b[1;33m\u001b[0m\u001b[0m\n\u001b[0m\u001b[0;32m     24\u001b[0m         \u001b[1;32mif\u001b[0m\u001b[1;33m(\u001b[0m\u001b[0mself\u001b[0m\u001b[1;33m.\u001b[0m\u001b[0misEmpty\u001b[0m\u001b[1;33m(\u001b[0m\u001b[1;33m)\u001b[0m\u001b[1;33m)\u001b[0m\u001b[1;33m:\u001b[0m\u001b[1;33m\u001b[0m\u001b[1;33m\u001b[0m\u001b[0m\n\u001b[0;32m     25\u001b[0m             \u001b[0mself\u001b[0m\u001b[1;33m.\u001b[0m\u001b[0mhead\u001b[0m\u001b[1;33m=\u001b[0m\u001b[0mself\u001b[0m\u001b[1;33m.\u001b[0m\u001b[0mrear\u001b[0m\u001b[1;33m=\u001b[0m\u001b[0mnode\u001b[0m\u001b[1;33m\u001b[0m\u001b[1;33m\u001b[0m\u001b[0m\n",
      "\u001b[1;31mAttributeError\u001b[0m: 'CircularDoublyLinkedList' object has no attribute 'rear'"
     ]
    }
   ],
   "source": [
    "main()"
   ]
  }
 ],
 "metadata": {
  "interpreter": {
   "hash": "97130045a27e42442cab4749e275979343a3964741d643834d917c874c99a835"
  },
  "kernelspec": {
   "display_name": "Python 3.9.6 64-bit",
   "name": "python3"
  },
  "language_info": {
   "codemirror_mode": {
    "name": "ipython",
    "version": 3
   },
   "file_extension": ".py",
   "mimetype": "text/x-python",
   "name": "python",
   "nbconvert_exporter": "python",
   "pygments_lexer": "ipython3",
   "version": "3.9.6"
  },
  "orig_nbformat": 4
 },
 "nbformat": 4,
 "nbformat_minor": 2
}
