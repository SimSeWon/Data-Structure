{
 "cells": [
  {
   "cell_type": "code",
   "execution_count": 19,
   "metadata": {},
   "outputs": [],
   "source": [
    "import random\n",
    "import copy\n",
    "from sorting import insertionSort\n",
    "\n",
    "n = int(input(\"Enter a number of data: \"))\n",
    "data = []\n",
    "for i in range(n):\n",
    "    numbers = random.randint(0, n)\n",
    "    data.append(numbers)\n",
    "d = copy.deepcopy(data)\n"
   ]
  },
  {
   "cell_type": "code",
   "execution_count": 20,
   "metadata": {},
   "outputs": [],
   "source": [
    "def main():\n",
    "    import time\n",
    "    startTime = time.time()\n",
    "    insertionSort(d)\n",
    "    endTime = time.time()\n",
    "    print(\"Insertion sort elapsed time: %.3f seconds\" %(endTime - startTime))\n",
    "\n",
    "\n",
    "\n"
   ]
  },
  {
   "cell_type": "code",
   "execution_count": 21,
   "metadata": {},
   "outputs": [
    {
     "name": "stdout",
     "output_type": "stream",
     "text": [
      "[5, 8, 9, 2, 10, 0, 1, 2, 5, 10] 1\n",
      "[5, 8, 9, 2, 10, 0, 1, 2, 5, 10] 2\n",
      "[2, 5, 8, 9, 10, 0, 1, 2, 5, 10] 3\n",
      "[2, 5, 8, 9, 10, 0, 1, 2, 5, 10] 4\n",
      "[0, 2, 5, 8, 9, 10, 1, 2, 5, 10] 5\n",
      "[0, 1, 2, 5, 8, 9, 10, 2, 5, 10] 6\n",
      "[0, 1, 2, 2, 5, 8, 9, 10, 5, 10] 7\n",
      "[0, 1, 2, 2, 5, 5, 8, 9, 10, 10] 8\n",
      "[0, 1, 2, 2, 5, 5, 8, 9, 10, 10] 9\n",
      "Insertion sort elapsed time: 0.001 seconds\n"
     ]
    }
   ],
   "source": [
    "main()"
   ]
  }
 ],
 "metadata": {
  "interpreter": {
   "hash": "0fea75d5e844868cc8b5bd72f8cf76e44414c91bd25e3208cd81b3fe732ddab2"
  },
  "kernelspec": {
   "display_name": "Python 3.7.6 64-bit ('base': conda)",
   "name": "python3"
  },
  "language_info": {
   "codemirror_mode": {
    "name": "ipython",
    "version": 3
   },
   "file_extension": ".py",
   "mimetype": "text/x-python",
   "name": "python",
   "nbconvert_exporter": "python",
   "pygments_lexer": "ipython3",
   "version": "3.7.6"
  },
  "orig_nbformat": 4
 },
 "nbformat": 4,
 "nbformat_minor": 2
}
