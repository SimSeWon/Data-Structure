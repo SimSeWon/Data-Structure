{
 "cells": [
  {
   "cell_type": "code",
   "execution_count": 1,
   "metadata": {},
   "outputs": [],
   "source": [
    "def bubbleSort(d):   #큰값 먼저 배정\n",
    "    n=len(d)\n",
    "    for i in range(n-1, 0,-1):\n",
    "        bChanged=False\n",
    "        for j in range(i):\n",
    "            if (d[j]>d[j+1]):\n",
    "                d[j],d[j+1]=d[j+1],d[j]\n",
    "                bChanged=True\n",
    "\n",
    "        if not bChanged: break\n",
    "\n",
    "        print(d, n-i)"
   ]
  },
  {
   "cell_type": "code",
   "execution_count": 2,
   "metadata": {},
   "outputs": [
    {
     "name": "stdout",
     "output_type": "stream",
     "text": [
      "[15, 24, 11, 29, 12, 47] 1\n",
      "[15, 11, 24, 12, 29, 47] 2\n",
      "[11, 15, 12, 24, 29, 47] 3\n",
      "[11, 12, 15, 24, 29, 47] 4\n"
     ]
    }
   ],
   "source": [
    "bubbleSort([24,15,29,11,47,12])"
   ]
  },
  {
   "cell_type": "code",
   "execution_count": null,
   "metadata": {},
   "outputs": [],
   "source": [
    "def selectionSort(d):\n",
    "    n=len(d)\n",
    "    for i in range(n-1):\n",
    "        least=i    \n",
    "        for i in range(i+1,n):\n",
    "            if (d[j]<d[least]):\n",
    "                least=j\n",
    "        d[i],d[least]=d[least],d[i]\n",
    "        \n"
   ]
  },
  {
   "cell_type": "code",
   "execution_count": 9,
   "metadata": {},
   "outputs": [],
   "source": [
    "def insertionSort(d):\n",
    "    n=len(d)\n",
    "    for i in range(1,n):\n",
    "        key=d[i]\n",
    "        \n",
    "        j=i-1\n",
    "        print(\"j\",d[j])\n",
    "        while j>=0 and d[j]>key:\n",
    "            d[j+1]=d[j]\n",
    "            j-=1\n",
    "            print('j_2',d[j])\n",
    "        d[j+1]=key\n",
    "        print(\"j\",d[j])\n",
    "        print(d,i,key)"
   ]
  },
  {
   "cell_type": "code",
   "execution_count": null,
   "metadata": {},
   "outputs": [],
   "source": []
  },
  {
   "cell_type": "code",
   "execution_count": 10,
   "metadata": {},
   "outputs": [
    {
     "name": "stdout",
     "output_type": "stream",
     "text": [
      "j 24\n",
      "j_2 12\n",
      "j 12\n",
      "[15, 24, 29, 11, 47, 12] 1 15\n",
      "j 24\n",
      "j 24\n",
      "[15, 24, 29, 11, 47, 12] 2 29\n",
      "j 29\n",
      "j_2 24\n",
      "j_2 15\n",
      "j_2 12\n",
      "j 12\n",
      "[11, 15, 24, 29, 47, 12] 3 11\n",
      "j 29\n",
      "j 29\n",
      "[11, 15, 24, 29, 47, 12] 4 47\n",
      "j 47\n",
      "j_2 29\n",
      "j_2 24\n",
      "j_2 15\n",
      "j_2 11\n",
      "j 11\n",
      "[11, 12, 15, 24, 29, 47] 5 12\n"
     ]
    }
   ],
   "source": [
    "insertionSort([24,15,29,11,47,12])"
   ]
  },
  {
   "cell_type": "code",
   "execution_count": 22,
   "metadata": {},
   "outputs": [],
   "source": [
    "def insertionSort(d):\n",
    "    n=len(d)\n",
    "    for i in range(1,n):\n",
    "        key=d[i]\n",
    "        j=i-1\n",
    "        while j>=0 and d[j]>key:\n",
    "            d[j+1]=d[j]\n",
    "            j-=1\n",
    "            print(\"d[j]\",d[j])\n",
    "        d[j+1]=key    #<- 뭔 역할??\n",
    "        print(d)\n"
   ]
  },
  {
   "cell_type": "code",
   "execution_count": 23,
   "metadata": {},
   "outputs": [
    {
     "name": "stdout",
     "output_type": "stream",
     "text": [
      "d[j] 12\n",
      "[15, 24, 29, 11, 47, 12]\n",
      "[15, 24, 29, 11, 47, 12]\n",
      "d[j] 24\n",
      "d[j] 15\n",
      "d[j] 12\n",
      "[11, 15, 24, 29, 47, 12]\n",
      "[11, 15, 24, 29, 47, 12]\n",
      "d[j] 29\n",
      "d[j] 24\n",
      "d[j] 15\n",
      "d[j] 11\n",
      "[11, 12, 15, 24, 29, 47]\n"
     ]
    }
   ],
   "source": [
    "insertionSort([24,15,29,11,47,12])"
   ]
  }
 ],
 "metadata": {
  "interpreter": {
   "hash": "97130045a27e42442cab4749e275979343a3964741d643834d917c874c99a835"
  },
  "kernelspec": {
   "display_name": "Python 3.9.6 64-bit",
   "name": "python3"
  },
  "language_info": {
   "codemirror_mode": {
    "name": "ipython",
    "version": 3
   },
   "file_extension": ".py",
   "mimetype": "text/x-python",
   "name": "python",
   "nbconvert_exporter": "python",
   "pygments_lexer": "ipython3",
   "version": "3.9.6"
  },
  "orig_nbformat": 4
 },
 "nbformat": 4,
 "nbformat_minor": 2
}
