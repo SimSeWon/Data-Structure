{
 "cells": [
  {
   "cell_type": "code",
   "execution_count": 18,
   "metadata": {},
   "outputs": [],
   "source": [
    "def bubbleSort(d):\n",
    "    n=len(d)\n",
    "    for i in range(n-1):\n",
    "        for j in range(n-1,i,-1):\n",
    "            if d[j-1]>d[j]:\n",
    "                d[j-1],d[j]=d[j],d[j-1]\n",
    "\n",
    "        print(\"Pass\", i+1 , \":\", d)\n"
   ]
  },
  {
   "cell_type": "code",
   "execution_count": 58,
   "metadata": {},
   "outputs": [],
   "source": [
    "def selectionSort(d):\n",
    "    n=len(d)\n",
    "    for i in range(n-1):\n",
    "        least=i\n",
    "        for j in range(i+1, n):\n",
    "            if (d[j]<d[least]):\n",
    "                least=j\n",
    "        d[i],d[least]=d[least],d[i]\n",
    "        print(d, i+1)"
   ]
  },
  {
   "cell_type": "code",
   "execution_count": 59,
   "metadata": {},
   "outputs": [
    {
     "name": "stdout",
     "output_type": "stream",
     "text": [
      "[11, 15, 29, 24, 47, 12] 1\n",
      "[11, 12, 29, 24, 47, 15] 2\n",
      "[11, 12, 15, 24, 47, 29] 3\n",
      "[11, 12, 15, 24, 47, 29] 4\n",
      "[11, 12, 15, 24, 29, 47] 5\n"
     ]
    }
   ],
   "source": [
    "selectionSort([24,15,29,11,47,12])"
   ]
  },
  {
   "cell_type": "code",
   "execution_count": 61,
   "metadata": {},
   "outputs": [],
   "source": [
    "def insertionSort(d):\n",
    "    n=len(d)\n",
    "    for i in range(1,n):\n",
    "        key=d[i]\n",
    "        j=i-1\n",
    "        while j>=0 and d[j]>key:\n",
    "            d[j+1]=d[j]\n",
    "            j-=1\n",
    "        d[j+1]=key\n",
    "        print(d,i)"
   ]
  },
  {
   "cell_type": "code",
   "execution_count": 62,
   "metadata": {},
   "outputs": [
    {
     "name": "stdout",
     "output_type": "stream",
     "text": [
      "[15, 24, 29, 11, 47, 12] 1\n",
      "[15, 24, 29, 11, 47, 12] 2\n",
      "[11, 15, 24, 29, 47, 12] 3\n",
      "[11, 15, 24, 29, 47, 12] 4\n",
      "[11, 12, 15, 24, 29, 47] 5\n"
     ]
    }
   ],
   "source": [
    "insertionSort([24,15,29,11,47,12])"
   ]
  },
  {
   "cell_type": "code",
   "execution_count": 67,
   "metadata": {},
   "outputs": [],
   "source": [
    "def main():\n",
    "    data=[24,15,29,11,47,12]\n",
    "    import copy\n",
    "    d=copy.deepcopy(data)\n",
    "    print(\"Before sorting\")\n",
    "    print(d)\n",
    "    print(\" \")\n",
    "\n",
    "    print(\"After bubble sorting\")\n",
    "    bubbleSort(d)\n",
    "    print(\" \")\n",
    "\n",
    "    d=copy.deepcopy(data)\n",
    "    print(\"Before sorting\")\n",
    "    print(d)\n",
    "    print(\" \")\n",
    "\n",
    "    print(\"After selection sorting\")\n",
    "    selectionSort(d)  \n",
    "    print(\" \")\n",
    "\n",
    "    d=copy.deepcopy(data)\n",
    "    print(\"Before sorting\")\n",
    "    print(d)\n",
    "    print(\" \")\n",
    "    \n",
    "    print(\"After insertion sorting\")\n",
    "    insertionSort(d)\n",
    "    "
   ]
  },
  {
   "cell_type": "code",
   "execution_count": 68,
   "metadata": {},
   "outputs": [
    {
     "name": "stdout",
     "output_type": "stream",
     "text": [
      "Before sorting\n",
      "[24, 15, 29, 11, 47, 12]\n",
      " \n",
      "After bubble sorting\n",
      "Pass 1 : [11, 24, 15, 29, 12, 47]\n",
      "Pass 2 : [11, 12, 24, 15, 29, 47]\n",
      "Pass 3 : [11, 12, 15, 24, 29, 47]\n",
      "Pass 4 : [11, 12, 15, 24, 29, 47]\n",
      "Pass 5 : [11, 12, 15, 24, 29, 47]\n",
      " \n",
      "Before sorting\n",
      "[24, 15, 29, 11, 47, 12]\n",
      " \n",
      "After selection sorting\n",
      "[11, 15, 29, 24, 47, 12] 1\n",
      "[11, 12, 29, 24, 47, 15] 2\n",
      "[11, 12, 15, 24, 47, 29] 3\n",
      "[11, 12, 15, 24, 47, 29] 4\n",
      "[11, 12, 15, 24, 29, 47] 5\n",
      " \n",
      "Before sorting\n",
      "[24, 15, 29, 11, 47, 12]\n",
      " \n",
      "After insertion sorting\n",
      "[15, 24, 29, 11, 47, 12] 1\n",
      "[15, 24, 29, 11, 47, 12] 2\n",
      "[11, 15, 24, 29, 47, 12] 3\n",
      "[11, 15, 24, 29, 47, 12] 4\n",
      "[11, 12, 15, 24, 29, 47] 5\n"
     ]
    }
   ],
   "source": [
    "main()"
   ]
  },
  {
   "cell_type": "code",
   "execution_count": null,
   "metadata": {},
   "outputs": [],
   "source": []
  }
 ],
 "metadata": {
  "interpreter": {
   "hash": "0fea75d5e844868cc8b5bd72f8cf76e44414c91bd25e3208cd81b3fe732ddab2"
  },
  "kernelspec": {
   "display_name": "Python 3.7.6 64-bit ('base': conda)",
   "name": "python3"
  },
  "language_info": {
   "codemirror_mode": {
    "name": "ipython",
    "version": 3
   },
   "file_extension": ".py",
   "mimetype": "text/x-python",
   "name": "python",
   "nbconvert_exporter": "python",
   "pygments_lexer": "ipython3",
   "version": "3.7.6"
  },
  "orig_nbformat": 4
 },
 "nbformat": 4,
 "nbformat_minor": 2
}
