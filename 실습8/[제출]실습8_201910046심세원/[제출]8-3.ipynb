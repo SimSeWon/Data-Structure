{
 "cells": [
  {
   "cell_type": "code",
   "execution_count": 8,
   "metadata": {},
   "outputs": [],
   "source": [
    "def sequential_search(d, k, low, high):\n",
    "    for i in range(low, high+1):\n",
    "        if d[i].key==k:\n",
    "            return i\n",
    "    return None"
   ]
  },
  {
   "cell_type": "code",
   "execution_count": 1,
   "metadata": {},
   "outputs": [],
   "source": [
    "def binarySearch(d, target):\n",
    "    low=0\n",
    "    high=len(d)-1\n",
    "    while low<=high:\n",
    "        mid=(low+high)//2\n",
    "        if d[mid]==target:\n",
    "            return mid\n",
    "        elif target<d[mid]:\n",
    "            high=mid-1\n",
    "        else:\n",
    "            low=mid+1\n",
    "\n",
    "    return 1"
   ]
  },
  {
   "cell_type": "code",
   "execution_count": 5,
   "metadata": {},
   "outputs": [],
   "source": [
    "def search(d,n):\n",
    "    if n in d:\n",
    "        print(\"{0} is in the list at index {1}\".format(n, d[n]))\n",
    "    else:\n",
    "        print(\"{0} is not in the list\".format(n))"
   ]
  },
  {
   "cell_type": "code",
   "execution_count": 11,
   "metadata": {},
   "outputs": [],
   "source": [
    "def main():\n",
    "    import time\n",
    "    import random\n",
    "    import copy\n",
    "\n",
    "    data = []\n",
    "\n",
    "\n",
    "    num = int(input(\"Enter a number of data: \"))\n",
    "    for i in range(num):\n",
    "        numbers = random.randint(0, num)\n",
    "        data.append(numbers)\n",
    "\n",
    "    d = copy.deepcopy(data)\n",
    "    startTime = time.time()\n",
    "    d.sort()\n",
    "    endTime = time.time()\n",
    "    print(\"Python sort elapsed time: %.3f seconds\" %(endTime - startTime))\n",
    "    print(\" \")\n",
    "\n",
    "    while True:\n",
    "\n",
    "        n = int(input(\"Enter a number to search: \"))\n",
    "        if n==-1:\n",
    "            break\n",
    "\n",
    "        d = copy.deepcopy(data)\n",
    "        startTime = time.time()\n",
    "        sequential_search(d, n, d[0], d[-1])\n",
    "        endTime = time.time()\n",
    "        search(d,n)            \n",
    "        print(\"Sequential search elapsed time: %.3f seconds\" %(endTime - startTime))\n",
    "\n",
    "        d = copy.deepcopy(data)\n",
    "        startTime = time.time()\n",
    "        binarySearch(d, n)\n",
    "        endTime = time.time()\n",
    "        search(d,n)            \n",
    "        print(\"Binary search elapsed time: %.3f seconds\" %(endTime - startTime))\n",
    "        print(\" \")\n",
    "        \n",
    "\n"
   ]
  },
  {
   "cell_type": "code",
   "execution_count": 12,
   "metadata": {},
   "outputs": [
    {
     "name": "stdout",
     "output_type": "stream",
     "text": [
      "Python sort elapsed time: 5.106 seconds\n",
      " \n",
      "25 is not in the list\n",
      "Sequential search elapsed time: 0.000 seconds\n",
      " \n",
      "25 is not in the list\n",
      "Binary search elapsed time: 0.000 seconds\n",
      " \n",
      "23 is not in the list\n",
      "Sequential search elapsed time: 0.000 seconds\n",
      " \n",
      "23 is not in the list\n",
      "Binary search elapsed time: 0.000 seconds\n",
      " \n",
      "26 is in the list at index 3933299\n",
      "Sequential search elapsed time: 0.000 seconds\n",
      " \n",
      "26 is in the list at index 3933299\n",
      "Binary search elapsed time: 0.000 seconds\n",
      " \n",
      "225225 is in the list at index 4853497\n",
      "Sequential search elapsed time: 0.000 seconds\n",
      " \n",
      "225225 is in the list at index 4853497\n",
      "Binary search elapsed time: 0.000 seconds\n",
      " \n",
      "2342345 is in the list at index 1520407\n",
      "Sequential search elapsed time: 0.000 seconds\n",
      " \n",
      "2342345 is in the list at index 1520407\n",
      "Binary search elapsed time: 0.000 seconds\n",
      " \n"
     ]
    }
   ],
   "source": [
    "main()"
   ]
  }
 ],
 "metadata": {
  "interpreter": {
   "hash": "97130045a27e42442cab4749e275979343a3964741d643834d917c874c99a835"
  },
  "kernelspec": {
   "display_name": "Python 3.9.6 64-bit",
   "name": "python3"
  },
  "language_info": {
   "codemirror_mode": {
    "name": "ipython",
    "version": 3
   },
   "file_extension": ".py",
   "mimetype": "text/x-python",
   "name": "python",
   "nbconvert_exporter": "python",
   "pygments_lexer": "ipython3",
   "version": "3.9.6"
  },
  "orig_nbformat": 4
 },
 "nbformat": 4,
 "nbformat_minor": 2
}
