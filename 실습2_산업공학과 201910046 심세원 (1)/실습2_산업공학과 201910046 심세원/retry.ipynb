{
 "cells": [
  {
   "cell_type": "markdown",
   "metadata": {},
   "source": [
    "# 문제 2"
   ]
  },
  {
   "cell_type": "code",
   "execution_count": 2,
   "metadata": {},
   "outputs": [],
   "source": [
    "def findMinMax(lst):\n",
    "    min=lst[0]\n",
    "    max=lst[0]\n",
    "    for i in range(len(lst)):\n",
    "        if lst[i]<min:\n",
    "            min=lst[i]\n",
    "        elif lst[i]>max:\n",
    "            max=lst[i]\n",
    "    \n",
    "    return (min, max)"
   ]
  },
  {
   "cell_type": "code",
   "execution_count": 14,
   "metadata": {},
   "outputs": [],
   "source": [
    "class Date:\n",
    "    def __init__(self, year,month, day):\n",
    "        self.year=year\n",
    "        self.month=month\n",
    "        self.day=day\n",
    "    \n",
    "    #구현해야 할 멤버 함수\n",
    "    def __gt__(self, rhs):\n",
    "        return ((self.year, self.month, self.day)>(rhs.year, rhs.month, rhs.day))\n",
    "    \n",
    "        \n",
    "    def __lt__(self, rhs):\n",
    "        return ((self.year, self.month, self.day)<(rhs.year, rhs.month, rhs.day))\n",
    "\n",
    "    \n",
    "        \n",
    "    def __str__(self):\n",
    "        return \"{0}/{1}/{2}\".format(self.year, self.month, self.day)   #매직메서드 정의\n",
    "\n",
    "\n",
    "    def increment(self):\n",
    "        if self.lastDayOfTheMonth():\n",
    "            self.day=1\n",
    "            if self.month==12:\n",
    "                self.year+=1\n",
    "                self.month=1\n",
    "                #d=1\n",
    "            else:\n",
    "                self.month+=1\n",
    "                #d=1\n",
    "        else:\n",
    "            self.day+=1\n",
    " \n",
    "\n",
    "\n",
    "    def lastDayOfTheMonth(self):\n",
    "        a=[1,3,5,7,8,10,12]\n",
    "        b=[4,6,9,11]\n",
    "\n",
    "        if self.month in a:\n",
    "            return 31\n",
    "        elif self.month in b:\n",
    "            return 30\n",
    "        elif ((self.year%4==0 and self.year%400==0) or self.year%100!=0):\n",
    "            return 29\n",
    "        else:\n",
    "            return 28"
   ]
  },
  {
   "cell_type": "markdown",
   "metadata": {},
   "source": [
    "def main():\n",
    "    inFile=open(\"input.txt\", \"r\")\n",
    "    lst=[]\n",
    "    \n",
    "    while True:\n",
    "        line=inFile.readline()\n",
    "        if line=='':\n",
    "            break\n",
    "        \n",
    "        date=[int(i) for i in line.split()]\n",
    "        lst.append(Date(date[0], date[1], date[2]))\n",
    "        \n",
    "    (min,max)=findMinMax(lst)\n",
    "    return print(min,max)\n",
    "    inFile.close()\n",
    "    "
   ]
  },
  {
   "cell_type": "code",
   "execution_count": 12,
   "metadata": {},
   "outputs": [],
   "source": [
    "def main():\n",
    "    inFile=open(\"input2.txt\", \"r\")\n",
    "    \n",
    "    while True:\n",
    "        line=inFile.readline()\n",
    "        if line=='':\n",
    "            break\n",
    "\n",
    "        data=[int(i) for i in line.split()]\n",
    "        date=Date(data[0],data[1],data[2])\n",
    "\n",
    "        for i in range(data[3]):\n",
    "            date.increment()\n",
    "\n",
    "        print(date)\n",
    "    inFile.close()\n",
    "\n",
    "\n"
   ]
  },
  {
   "cell_type": "code",
   "execution_count": 13,
   "metadata": {},
   "outputs": [
    {
     "ename": "TypeError",
     "evalue": "increment() missing 2 required positional arguments: 'm' and 'd'",
     "output_type": "error",
     "traceback": [
      "\u001b[1;31m---------------------------------------------------------------------------\u001b[0m",
      "\u001b[1;31mTypeError\u001b[0m                                 Traceback (most recent call last)",
      "\u001b[1;32m<ipython-input-13-263240bbee7e>\u001b[0m in \u001b[0;36m<module>\u001b[1;34m\u001b[0m\n\u001b[1;32m----> 1\u001b[1;33m \u001b[0mmain\u001b[0m\u001b[1;33m(\u001b[0m\u001b[1;33m)\u001b[0m\u001b[1;33m\u001b[0m\u001b[1;33m\u001b[0m\u001b[0m\n\u001b[0m",
      "\u001b[1;32m<ipython-input-12-d9415524e7ff>\u001b[0m in \u001b[0;36mmain\u001b[1;34m()\u001b[0m\n\u001b[0;32m     11\u001b[0m \u001b[1;33m\u001b[0m\u001b[0m\n\u001b[0;32m     12\u001b[0m         \u001b[1;32mfor\u001b[0m \u001b[0mi\u001b[0m \u001b[1;32min\u001b[0m \u001b[0mrange\u001b[0m\u001b[1;33m(\u001b[0m\u001b[0mdata\u001b[0m\u001b[1;33m[\u001b[0m\u001b[1;36m3\u001b[0m\u001b[1;33m]\u001b[0m\u001b[1;33m)\u001b[0m\u001b[1;33m:\u001b[0m\u001b[1;33m\u001b[0m\u001b[1;33m\u001b[0m\u001b[0m\n\u001b[1;32m---> 13\u001b[1;33m             \u001b[0mdate\u001b[0m\u001b[1;33m.\u001b[0m\u001b[0mincrement\u001b[0m\u001b[1;33m(\u001b[0m\u001b[1;33m)\u001b[0m\u001b[1;33m\u001b[0m\u001b[1;33m\u001b[0m\u001b[0m\n\u001b[0m\u001b[0;32m     14\u001b[0m \u001b[1;33m\u001b[0m\u001b[0m\n\u001b[0;32m     15\u001b[0m         \u001b[0mprint\u001b[0m\u001b[1;33m(\u001b[0m\u001b[0mdate\u001b[0m\u001b[1;33m)\u001b[0m\u001b[1;33m\u001b[0m\u001b[1;33m\u001b[0m\u001b[0m\n",
      "\u001b[1;31mTypeError\u001b[0m: increment() missing 2 required positional arguments: 'm' and 'd'"
     ]
    }
   ],
   "source": [
    "main()"
   ]
  },
  {
   "cell_type": "code",
   "execution_count": 4,
   "metadata": {},
   "outputs": [
    {
     "name": "stdout",
     "output_type": "stream",
     "text": [
      "2005/5/5 2267/4/27\n"
     ]
    }
   ],
   "source": [
    "main()"
   ]
  },
  {
   "cell_type": "markdown",
   "metadata": {},
   "source": [
    "# 문제 3"
   ]
  },
  {
   "cell_type": "code",
   "execution_count": 7,
   "metadata": {},
   "outputs": [],
   "source": [
    "#하루를 증가시키는 함수\n",
    "#월에 따라...\n",
    "\n",
    "\n",
    "\n",
    "def increment(y,m,d):\n",
    "    if d==lastDayOfTheMonth(y,m):\n",
    "        d=1\n",
    "        if m==12:\n",
    "            y+=1\n",
    "            m=1\n",
    "            #d=1\n",
    "        else:\n",
    "            m+=1\n",
    "            #d=1\n",
    "    else:\n",
    "        d+=1\n",
    "    return (y,m,d)\n",
    "\n"
   ]
  },
  {
   "cell_type": "code",
   "execution_count": 8,
   "metadata": {},
   "outputs": [],
   "source": [
    "def lastDayOfTheMonth(y,m):\n",
    "    a=[1,3,5,7,8,10,12]\n",
    "    b=[4,6,9,11]\n",
    "\n",
    "    if m in a:\n",
    "        return 31\n",
    "    elif m in b:\n",
    "        return 30\n",
    "    elif ((y%4==0 and y%400==0) or y%100!=0):\n",
    "        return 29\n",
    "    else:\n",
    "        return 28\n"
   ]
  },
  {
   "cell_type": "markdown",
   "metadata": {},
   "source": [
    "def main():\n",
    "    inFile=open(\"input2.txt\", \"r\")\n",
    "    lst=[]\n",
    "    lst2=[]\n",
    "    \n",
    "    while True:\n",
    "        line=inFile.readline()\n",
    "        if line=='':\n",
    "            break\n",
    "        \n",
    "        s=[int(i) for i in line.split()]\n",
    "        lst2=lst.append(Date(s[0], s[1], s[2]))\n",
    "        print(lst)\n",
    "        # for i in range(s[3]):\n",
    "        #     increment(lst[i])\n",
    "         \n",
    "    inFile.close()"
   ]
  },
  {
   "cell_type": "markdown",
   "metadata": {},
   "source": []
  }
 ],
 "metadata": {
  "interpreter": {
   "hash": "41ec41ed2208f8daa2a21ceb58f25882d6379e3c810e7cedd0381cf666f85958"
  },
  "kernelspec": {
   "display_name": "Python 3.8.8 64-bit ('base': conda)",
   "name": "python3"
  },
  "language_info": {
   "codemirror_mode": {
    "name": "ipython",
    "version": 3
   },
   "file_extension": ".py",
   "mimetype": "text/x-python",
   "name": "python",
   "nbconvert_exporter": "python",
   "pygments_lexer": "ipython3",
   "version": "3.8.8"
  },
  "orig_nbformat": 4
 },
 "nbformat": 4,
 "nbformat_minor": 2
}
