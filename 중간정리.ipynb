{
 "cells": [
  {
   "cell_type": "markdown",
   "metadata": {},
   "source": [
    "# 2장"
   ]
  },
  {
   "cell_type": "code",
   "execution_count": null,
   "metadata": {},
   "outputs": [],
   "source": [
    "#이스케이프 시퀀스:\"\"안에 사용"
   ]
  },
  {
   "cell_type": "code",
   "execution_count": 8,
   "metadata": {},
   "outputs": [
    {
     "data": {
      "text/plain": [
       "[4, 3, 2, 1]"
      ]
     },
     "execution_count": 8,
     "metadata": {},
     "output_type": "execute_result"
    }
   ],
   "source": [
    "A=[1,2,3,4]\n",
    "\n",
    "A[::-1]"
   ]
  },
  {
   "cell_type": "code",
   "execution_count": 15,
   "metadata": {},
   "outputs": [
    {
     "name": "stdout",
     "output_type": "stream",
     "text": [
      "10\n"
     ]
    }
   ],
   "source": [
    "# 리스트 안의 element를 사용하는 경우\n",
    "sum=0\n",
    "for i in A:\n",
    "    sum+=i\n",
    "print(sum)"
   ]
  },
  {
   "cell_type": "code",
   "execution_count": 16,
   "metadata": {},
   "outputs": [
    {
     "name": "stdout",
     "output_type": "stream",
     "text": [
      "0\n",
      "1\n",
      "2\n",
      "3\n"
     ]
    }
   ],
   "source": [
    "# 리스트 안의 요소의 갯수만큼 반복하는 경우 : range안에 len이 들어가야 함 \n",
    "for i in range(len(A)):\n",
    "    print(i)"
   ]
  },
  {
   "cell_type": "code",
   "execution_count": 30,
   "metadata": {},
   "outputs": [
    {
     "data": {
      "text/plain": [
       "[1, 2, 3, 4]"
      ]
     },
     "execution_count": 30,
     "metadata": {},
     "output_type": "execute_result"
    }
   ],
   "source": [
    "A=[1,2,3,4]\n",
    "\n",
    "A.reverse()\n",
    "B=reversed(A)\n",
    "list(B)"
   ]
  },
  {
   "cell_type": "code",
   "execution_count": 32,
   "metadata": {},
   "outputs": [
    {
     "data": {
      "text/plain": [
       "[1, 2, 3, 4, 5, 6, 7, 8]"
      ]
     },
     "execution_count": 32,
     "metadata": {},
     "output_type": "execute_result"
    }
   ],
   "source": [
    "aa=[1,2,3,4]\n",
    "bb=[5,6,7,8]\n",
    "\n",
    "aa.extend(bb)\n",
    "aa"
   ]
  },
  {
   "cell_type": "markdown",
   "metadata": {},
   "source": [
    "for i in range(10):  #0~9\n",
    "for i in range(0,9+1): #0~9\n",
    "for i in range(9,0-1,-1): #0~9\n",
    "for i in range(0,10+1,2):  #1,3,5,7,9\n",
    "=> 1개:0~n-1개(출력하려는 숫자보다 +1)\n",
    "   2개:n~m-1개(출력하려는 숫자보다 +1)\n",
    "   3개:역순:m~(n+1)개(출력하려는 숫자보다 -1)"
   ]
  },
  {
   "cell_type": "code",
   "execution_count": 4,
   "metadata": {},
   "outputs": [
    {
     "name": "stdout",
     "output_type": "stream",
     "text": [
      "1\n",
      "3\n",
      "5\n",
      "7\n",
      "9\n"
     ]
    }
   ],
   "source": [
    "a=[1,2,3,4,5]\n",
    "for i in range(1,10+1,2):\n",
    "    print(i)"
   ]
  },
  {
   "cell_type": "markdown",
   "metadata": {},
   "source": [
    " a, b: 리스트 v:값 i:인덱스 \n",
    " 요소 1개 추가 : a.append(v)\n",
    " 리스트 추가 : a.extend(b)\n",
    " 문자열, 리스트 길이 : len()\n",
    " 리스트 안에 특정 값 개수 찾기 : a.count('v')\n",
    " 인덱스 위치에 값 삽입 : a.insert(i,v)\n",
    " s.remove(v)\n",
    " s.pop(i)\n"
   ]
  },
  {
   "cell_type": "code",
   "execution_count": 45,
   "metadata": {},
   "outputs": [
    {
     "name": "stdout",
     "output_type": "stream",
     "text": [
      "ab\n",
      "aa\n",
      "['apple', 'banana']\n",
      "['apple', 'banana', 'red', 'yellow']\n"
     ]
    }
   ],
   "source": [
    "#연산자 활용 :문자열과 리스트는 같은 유형끼리 +가능, , 반복은 *를 통해 가능 \n",
    "print('a'+'b')\n",
    "print('a'*2)\n",
    "ex1=['apple','banana']\n",
    "ex2=['red','yellow']\n",
    "print(ex1*1)\n",
    "print(ex1+ex2)"
   ]
  },
  {
   "cell_type": "code",
   "execution_count": 21,
   "metadata": {},
   "outputs": [],
   "source": [
    "#range 대신 문자열/리스트/집합/딕셔너리로 대체 가능"
   ]
  },
  {
   "cell_type": "markdown",
   "metadata": {},
   "source": [
    "# 3장 : 리스트와 집합"
   ]
  },
  {
   "cell_type": "markdown",
   "metadata": {},
   "source": [
    "배열 구조 vs 연결된 구조\n",
    "(1)배열구조\n",
    "장점 : 접근용이:O(1)\n",
    "단점 : 용량 변경& 중간의 삽입/삭제 어렵\n",
    "\n",
    "(2)연결된 구조 - 파이썬은 리스트를 이용해 배열구조 표현\n",
    "장점 : 삽입/삭제 용이\n",
    "접근:O(n)"
   ]
  },
  {
   "cell_type": "markdown",
   "metadata": {},
   "source": [
    "- 파이썬 리스트는 동적 배열로 구현됨\n",
    ":추가적인 공간이 필요하면 기존 메모리를 모두 버리고 더 큰 새로운 메모리 할당해 사용\n",
    "\n",
    "- 튜플은 용량 변경 x\n",
    " "
   ]
  },
  {
   "cell_type": "code",
   "execution_count": 68,
   "metadata": {},
   "outputs": [],
   "source": [
    "a=[1,2,3,4,5]\n",
    "b=[5,7,8,9,10]\n",
    "s=[]\n",
    "\n",
    "def comparig(ones,others):\n",
    "    \n",
    "    for i in a:\n",
    "        if i in others:\n",
    "            s.append(i)\n",
    "    if len(s)!=0:\n",
    "        return True\n",
    "    else:\n",
    "        return False\n",
    "        \n",
    "\n",
    "\n",
    "\n"
   ]
  },
  {
   "cell_type": "code",
   "execution_count": 69,
   "metadata": {},
   "outputs": [
    {
     "name": "stdout",
     "output_type": "stream",
     "text": [
      "True\n"
     ]
    }
   ],
   "source": [
    "print(comparig(a,b))"
   ]
  },
  {
   "cell_type": "code",
   "execution_count": 9,
   "metadata": {},
   "outputs": [],
   "source": [
    "a=[1,2,3,4,5]\n",
    "b=[6,7,8,9,12,1]\n",
    "def comparing(a,b):\n",
    "    for i in a:\n",
    "        if i in b:\n",
    "            return True\n",
    "        else:\n",
    "            return False\n"
   ]
  },
  {
   "cell_type": "code",
   "execution_count": 10,
   "metadata": {},
   "outputs": [
    {
     "data": {
      "text/plain": [
       "True"
      ]
     },
     "execution_count": 10,
     "metadata": {},
     "output_type": "execute_result"
    }
   ],
   "source": [
    "comparing(a,b)"
   ]
  },
  {
   "cell_type": "code",
   "execution_count": null,
   "metadata": {},
   "outputs": [],
   "source": [
    "# 괄호검사 알고리즘\n",
    "\n",
    "def isCorrrect(line):\n",
    "    s=Stack()\n",
    "    for i in line:\n",
    "        if i in '{([':\n",
    "            s.push()\n",
    "            if i in '}': s.pop()=='{'\n",
    "            if i in ']': s.pop()=='['\n",
    "            if i in ')': s.pop()=='('\n",
    "\n",
    "        \n",
    "\n",
    "\n",
    "\n"
   ]
  },
  {
   "cell_type": "markdown",
   "metadata": {},
   "source": [
    "# 4장 : 스택"
   ]
  },
  {
   "cell_type": "code",
   "execution_count": null,
   "metadata": {},
   "outputs": [],
   "source": [
    "def precedence(op):\n",
    "    if op=='(' or op==')': return 0\n",
    "    elif op=='+' or op=='-': return 1\n",
    "    elif op=='*' or op=='/': return 2\n",
    "    else: return -1\n",
    "    "
   ]
  },
  {
   "cell_type": "code",
   "execution_count": null,
   "metadata": {},
   "outputs": [],
   "source": [
    "#중위->후위\n",
    "\n",
    "def Infix2Postfix(expr):\n",
    "    s=Stack()\n",
    "    output=[]\n",
    "    for term in expr:\n",
    "        if term in '(':\n",
    "            s.push('(')\n",
    "        elif term in ')':\n",
    "            while not s.isEmpty():\n",
    "                op=s.pop()\n",
    "                if op=='(': break\n",
    "                else:\n",
    "                    output.append(op)\n",
    "                    \n",
    "        elif term in \"+-*/\":\n",
    "            while not s.isEmpty():\n",
    "                op=s.peek()\n",
    "                if(precedence(term)<=precedence(op)):\n",
    "                    output.append(op)\n",
    "                    s.pop()\n",
    "                else:break\n",
    "            s.push(term)\n",
    "        else:\n",
    "            output.append(term)\n",
    "    while not s.isEmpty():\n",
    "        output.append(s.pop())\n",
    "\n"
   ]
  },
  {
   "cell_type": "markdown",
   "metadata": {},
   "source": [
    "# 5장 : 큐와 덱"
   ]
  },
  {
   "cell_type": "code",
   "execution_count": 72,
   "metadata": {},
   "outputs": [
    {
     "ename": "NameError",
     "evalue": "name 'count' is not defined",
     "output_type": "error",
     "traceback": [
      "\u001b[1;31m---------------------------------------------------------------------------\u001b[0m",
      "\u001b[1;31mNameError\u001b[0m                                 Traceback (most recent call last)",
      "\u001b[1;32m<ipython-input-72-ef730c4b66f3>\u001b[0m in \u001b[0;36m<module>\u001b[1;34m\u001b[0m\n\u001b[0;32m      1\u001b[0m \u001b[0ma\u001b[0m\u001b[1;33m=\u001b[0m\u001b[1;33m[\u001b[0m\u001b[1;36m1\u001b[0m\u001b[1;33m,\u001b[0m\u001b[1;36m2\u001b[0m\u001b[1;33m,\u001b[0m\u001b[1;36m3\u001b[0m\u001b[1;33m,\u001b[0m\u001b[1;36m4\u001b[0m\u001b[1;33m]\u001b[0m\u001b[1;33m\u001b[0m\u001b[1;33m\u001b[0m\u001b[0m\n\u001b[1;32m----> 2\u001b[1;33m \u001b[0mprint\u001b[0m\u001b[1;33m(\u001b[0m\u001b[0mcount\u001b[0m\u001b[1;33m(\u001b[0m\u001b[0ma\u001b[0m\u001b[1;33m)\u001b[0m\u001b[1;33m)\u001b[0m\u001b[1;33m\u001b[0m\u001b[1;33m\u001b[0m\u001b[0m\n\u001b[0m",
      "\u001b[1;31mNameError\u001b[0m: name 'count' is not defined"
     ]
    }
   ],
   "source": [
    "#원형큐 / 미로찾기 / 덱\n"
   ]
  },
  {
   "cell_type": "code",
   "execution_count": null,
   "metadata": {},
   "outputs": [],
   "source": [
    "class CircularDequeue(CircularQueue):\n",
    "    def __init__(self):\n",
    "        super().__init__()\n",
    "\n",
    "    def addRear(self):\n",
    "        self.rear=(self.rear+1)%self.ms\n",
    " \n",
    "    def deleteFront(self):\n",
    "        self.front=(self.front+1)%self.ms\n",
    "\n",
    "    def addFront(self):\n",
    "        self.front=(self.front-1+self.ms)%self.ms\n",
    "\n",
    "    def deleteRear(self):\n",
    "        self.rear=(self.rear-1+self.ms)%self.ms\n",
    "        \n"
   ]
  },
  {
   "cell_type": "markdown",
   "metadata": {},
   "source": [
    "# 6. 연결된 구조"
   ]
  },
  {
   "cell_type": "code",
   "execution_count": 74,
   "metadata": {},
   "outputs": [],
   "source": [
    "MAX_QSIZE=3\n",
    "class CircularQueue:\n",
    "    def __init__(self):\n",
    "        self.items=[None]*MAX_QSIZE\n",
    "        self.front=0\n",
    "        self.rear=0\n",
    "        self.count=0\n",
    "        self.maxSize=MAX_QSIZE\n",
    "        \n",
    "    def isEmpty(self):\n",
    "        return self.count==0\n",
    "    \n",
    "    def isFull(self):\n",
    "        return self.front==(self.rear+1)%self.maxSize\n",
    "    \n",
    "    def clear(self):\n",
    "        self.front=0\n",
    "        self.rear=0\n",
    "        self.count=0\n",
    "        self.maxSize=MAX_QSIZE\n",
    "        \n",
    "    def enqueue(self, item):\n",
    "        if self.isFull():\n",
    "            self.resize()\n",
    "            #print(self.items)\n",
    "            \n",
    "        self.rear=(self.rear+1)%self.maxSize\n",
    "        self.items[self.rear]=item\n",
    "        self.count+=1\n",
    "#         self.items.append(item)\n",
    "        \n",
    "            \n",
    "    def dequeue(self):\n",
    "        if not self.isEmpty():\n",
    "            self.front=(self.front+1)%self.maxSize\n",
    "            self.count-=1\n",
    "            return print(self.items[self.front])\n",
    "        \n",
    "    def resize(self):\n",
    "        newItems=[None]*2*self.maxSize\n",
    "        scan=(self.front+1)%self.maxSize\n",
    "        for i in range(self.count):\n",
    "            newItems[i+1]=self.items[scan]\n",
    "            scan=(scan+1)%self.maxSize\n",
    "        self.items=newItems\n",
    "        self.front=0\n",
    "        self.rear=self.count\n",
    "        self.maxSize=2*self.maxSize\n",
    "        \n",
    "    def peek(self):\n",
    "        if not self.isEmpty():\n",
    "            return print(self.items[(self.front+1)%self.maxSize])\n",
    "        \n",
    "    def size(self):\n",
    "        return print(\"size: \",self.count)\n",
    "    \n",
    "    def print(self):\n",
    "        out=[]\n",
    "        if self.front<self.rear:\n",
    "            out=self.items[self.front+1:self.rear+1]\n",
    "        else:\n",
    "            out=self.items[self.front+1:MAX_QSIZE]\\\n",
    "            +self.items[0:self.rear+1]\n",
    "        print(out)\n",
    "#         print(\"[f=%s, r=%d] ==>\"%(self.front, self.rear), out)"
   ]
  },
  {
   "cell_type": "code",
   "execution_count": 81,
   "metadata": {},
   "outputs": [],
   "source": [
    "values=CircularQueue()\n",
    "\n",
    "def main():\n",
    "    for i in range(20):\n",
    "        if i%3==0:\n",
    "            values.enqueue(i)\n",
    "        elif i%4==0:\n",
    "            values.dequeue()\n",
    "        values.print()    \n",
    "\n",
    "\n",
    "\n"
   ]
  },
  {
   "cell_type": "code",
   "execution_count": 82,
   "metadata": {},
   "outputs": [
    {
     "name": "stdout",
     "output_type": "stream",
     "text": [
      "[0]\n",
      "[0]\n",
      "[0]\n",
      "[0, 3]\n",
      "0\n",
      "[3]\n",
      "[3]\n",
      "[3, 6]\n",
      "[3, 6]\n",
      "3\n",
      "[6]\n",
      "[6, 9]\n",
      "[6, 9]\n",
      "[6, 9]\n",
      "[6, 9, 12]\n",
      "[6, 9, 12]\n",
      "[6, 9, 12]\n",
      "[6, 9, 12, 15]\n",
      "6\n",
      "[9, 12, 15]\n",
      "[9, 12, 15]\n",
      "[9, 12, 15, 18]\n",
      "[9, 12, 15, 18]\n"
     ]
    }
   ],
   "source": [
    "main()"
   ]
  }
 ],
 "metadata": {
  "interpreter": {
   "hash": "41ec41ed2208f8daa2a21ceb58f25882d6379e3c810e7cedd0381cf666f85958"
  },
  "kernelspec": {
   "display_name": "Python 3.8.8 64-bit ('base': conda)",
   "name": "python3"
  },
  "language_info": {
   "codemirror_mode": {
    "name": "ipython",
    "version": 3
   },
   "file_extension": ".py",
   "mimetype": "text/x-python",
   "name": "python",
   "nbconvert_exporter": "python",
   "pygments_lexer": "ipython3",
   "version": "3.8.8"
  },
  "orig_nbformat": 4
 },
 "nbformat": 4,
 "nbformat_minor": 2
}
