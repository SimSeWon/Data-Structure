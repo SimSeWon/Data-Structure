{
 "cells": [
  {
   "cell_type": "code",
   "execution_count": 1,
   "metadata": {},
   "outputs": [],
   "source": [
    "# 연결된 구조:단순연결리스트-연결된 스택\n",
    "# 인덱스/값에 직접 접근 불가 매개체인 n을 사용\n",
    "\n",
    "class LinkedStack:\n",
    "    def __init__(self):\n",
    "        self.top=None\n",
    "    \n",
    "    def isEmpty(self):\n",
    "        return len(self.top)==0\n",
    "    \n",
    "    def size(self):\n",
    "        return len(self.top)\n",
    "    \n",
    "    def clear(self):\n",
    "        self.top=[]\n",
    "        \n",
    "    def push(self, item):\n",
    "        #self.top.append(item)\n",
    "        n=Node(i, self.top)         #Node클래스 호출을 통해 n생성\n",
    "        self.top=n                  #LinkedStack 클래스의 기존 top의 값에서 생성한 n으로 대체\n",
    "    \n",
    "    def pop(self):\n",
    "        if not self.isEmpty():\n",
    "            #return self.top.pop(-1)\n",
    "            n=self.top\n",
    "            \n",
    "        \n",
    "    def peek(self):    #맨 위의 항목을 삭제하지않고 반환\n",
    "        if not self.isEmpty():\n",
    "            return self.top[-1]\n",
    "        \n",
    "    def __str__(self):\n",
    "        #return self.top\n",
    "        return str(self.top[::-1])\n"
   ]
  },
  {
   "cell_type": "code",
   "execution_count": 3,
   "metadata": {},
   "outputs": [],
   "source": [
    "class Node():\n",
    "    def __init__(i,n=None):\n",
    "        self.item=i\n",
    "        self.next=n"
   ]
  }
 ],
 "metadata": {
  "interpreter": {
   "hash": "0fea75d5e844868cc8b5bd72f8cf76e44414c91bd25e3208cd81b3fe732ddab2"
  },
  "kernelspec": {
   "display_name": "Python 3.7.6 64-bit ('base': conda)",
   "name": "python3"
  },
  "language_info": {
   "codemirror_mode": {
    "name": "ipython",
    "version": 3
   },
   "file_extension": ".py",
   "mimetype": "text/x-python",
   "name": "python",
   "nbconvert_exporter": "python",
   "pygments_lexer": "ipython3",
   "version": "3.7.6"
  },
  "orig_nbformat": 4
 },
 "nbformat": 4,
 "nbformat_minor": 2
}
