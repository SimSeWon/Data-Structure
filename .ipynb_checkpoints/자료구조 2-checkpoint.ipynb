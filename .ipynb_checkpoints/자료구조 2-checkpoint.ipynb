{
 "cells": [
  {
   "cell_type": "markdown",
   "metadata": {},
   "source": [
    "1. 문제 1 (교과서 86쪽, 연습문제 2.5)\n",
    "\n",
    "1장에서 Bag을 함수 사용하여 구현하였으나 Bag을 클래스 사용하여 구현한다. Bag을 다음과 같이 정의할 때 구현되지 않은 멤버 함수를 구현하여 아래의 Bag을 사용한 코드를 실행할 때 주어진 결과와 같이 되도록 한다.\n"
   ]
  },
  {
   "cell_type": "code",
   "execution_count": 3,
   "metadata": {
    "scrolled": true
   },
   "outputs": [
    {
     "name": "stdout",
     "output_type": "stream",
     "text": [
      "가방속 물건:  ['휴대폰', '지갑', '손수건', '빗', '연필']\n",
      "가방속 물건:  ['휴대폰', '지갑', '빗', '연필', '빗', '자료 구조 책']\n",
      "가방속 물건 갯수: 6\n",
      "가방속 지갑 유무: True\n",
      "가방속 손수건 유무: False\n"
     ]
    }
   ],
   "source": [
    "class Bag:\n",
    "    def __init__(self):\n",
    "        self.items = []\n",
    "\n",
    "# 구현 해야할 멤버 함수 \n",
    "    def contains(self, e):\n",
    "        if e in self.items:\n",
    "            return \"True\"\n",
    "        else:\n",
    "            return \"False\"\n",
    "        \n",
    "    def insert(self, e):\n",
    "        self.items.append(e)\n",
    "    \n",
    "    def remove(self, e):\n",
    "        if e in self.items:\n",
    "            self.items.remove(e)\n",
    "    \n",
    "    def count(self):\n",
    "        return len(self.items)\n",
    "    \n",
    "    def __str__(self):\n",
    "        return self.items\n",
    "\n",
    "myBag = Bag()\n",
    "myBag.insert(\"휴대폰\")\n",
    "myBag.insert(\"지갑\")\n",
    "myBag.insert(\"손수건\")\n",
    "myBag.insert('빗')\n",
    "myBag.insert('연필')\n",
    "print(\"가방속 물건: \", myBag.items)\n",
    "myBag.__str__()\n",
    "myBag.insert('빗')\n",
    "myBag.remove('손수건')\n",
    "myBag.insert('자료 구조 책')\n",
    "print(\"가방속 물건: \", myBag.items)\n",
    "print(\"가방속 물건 갯수: %d\" %myBag.count())\n",
    "print(\"가방속 지갑 유무: %s\" %myBag.contains('지갑'))\n",
    "print(\"가방속 손수건 유무: %s\" %myBag.contains('손수건'))"
   ]
  },
  {
   "cell_type": "markdown",
   "metadata": {},
   "source": [
    "문제 2 ~ 문제 4는 date 관련 라이브러리 사용하지 말고 클래스 Date 만들어 사용한다. 필요한 멤버 함수가 있으면 추가하여 사용한다.\n",
    "\n"
   ]
  },
  {
   "cell_type": "markdown",
   "metadata": {},
   "source": [
    "2. 문제 2 \n",
    "\n",
    "2장에서 리스트에 있는 데이터의 최솟값, 최댓값을 찾는 findMinMax() 함수를 공부하였다. 이 함수를 이용하여 파일 “input.txt”에 있는 연, 월, 일로 주어진 날짜를 읽어 출력하고 가장 오래된 날짜와 가장 늦은 날짜를 출력하도록 한다.\n"
   ]
  },
  {
   "cell_type": "code",
   "execution_count": 27,
   "metadata": {},
   "outputs": [],
   "source": [
    "class Date:\n",
    "    def __init__(self, year,month, day):\n",
    "        self.year=year\n",
    "        self.month=month\n",
    "        self.day=day\n",
    "    \n",
    "    #구현해야 할 멤버 함수\n",
    "    def __gt__(self, rhs):\n",
    "        return self.year>rhs.year\n",
    "    \n",
    "        \n",
    "    def __lt__(self, rhs):\n",
    "        return self.year<rhs.year\n",
    "\n",
    "    \n",
    "        \n",
    "    def __str__(self):\n",
    "        return \"{0}/{1}/{2}\".format(self.year, self.month, self.day)   #매직메서드 정의"
   ]
  },
  {
   "cell_type": "code",
   "execution_count": 28,
   "metadata": {},
   "outputs": [],
   "source": [
    "        \n",
    "#수업시간 배운 함수 사용\n",
    "#리스트에 있는 날짜에서 가장 오래된 날짜와 가장 늦은 날짜를 출력\n",
    "def findMinMax(lst):\n",
    "    \n",
    "    min=lst[0]\n",
    "    max=lst[0]\n",
    "    for i in range(1, len(lst)):\n",
    "        if max<lst[i] : max=lst[i]\n",
    "        if min>lst[i] : min=lst[i]\n",
    "    return (min, max)                \n",
    "    "
   ]
  },
  {
   "cell_type": "code",
   "execution_count": 29,
   "metadata": {},
   "outputs": [
    {
     "name": "stdout",
     "output_type": "stream",
     "text": [
      "[2267, 4, 27]\n",
      "[2011, 5, 5]\n",
      "[2011, 6, 25]\n",
      "[2005, 5, 5]\n",
      "[2011, 5, 5]\n",
      "[2012, 7, 5]\n",
      "[2010, 3, 8]\n",
      "[2267, 4, 26]\n",
      "2267/4/27\n",
      "2011/5/5\n",
      "2011/6/25\n",
      "2005/5/5\n",
      "2011/5/5\n",
      "2012/7/5\n",
      "2010/3/8\n",
      "2267/4/26\n",
      "\n",
      "earlist date:  2005/5/5\n",
      "latest date:  2267/4/27\n"
     ]
    }
   ],
   "source": [
    "#주어진 파일을 읽어 날짜를 리스트에 저장    \n",
    "def main():\n",
    "    inFile=open(\"input.txt\", \"r\")\n",
    "    lst=[]\n",
    "    while True:\n",
    "        line=inFile.readline()\n",
    "        if line==\"\":\n",
    "            break\n",
    "            \n",
    "        date=[int(i) for i in line.split()]\n",
    "        print(date)\n",
    "        lst.append(Date(date[0], date[1], date[2]))   #yyyy/mm/dd 형테로 lst에 저장됨\n",
    "        \n",
    "    for i in range(len(lst)):                      \n",
    "        print(lst[i])                                #lst를 fimdMinMax에 넣음\n",
    "        (min, max)=findMinMax(lst)\n",
    "    print()\n",
    "    print('earlist date: ', min)\n",
    "    print('latest date: ', max)\n",
    "    inFile.close()\n",
    "\n",
    "main()    "
   ]
  },
  {
   "cell_type": "code",
   "execution_count": 41,
   "metadata": {},
   "outputs": [],
   "source": [
    "##study"
   ]
  },
  {
   "cell_type": "code",
   "execution_count": 74,
   "metadata": {
    "scrolled": true
   },
   "outputs": [],
   "source": [
    "#오버라이딩:클래스의 상속시 클래스를 수정하는 것\n",
    "#오버로딩 : 하나의 메소드에게 다형성을 부여하는 것. 오버로딩을 활용하면 \n",
    "###########3메소드를 작성할 /댜 먀갸 변수의 숫자에 제한이 없기 때문에 같은 이름으로 동작하는 무수한 메소드 짤수있음\n",
    "\n",
    "\n",
    "        "
   ]
  },
  {
   "cell_type": "code",
   "execution_count": 89,
   "metadata": {},
   "outputs": [],
   "source": [
    "class coordinate:\n",
    "    def __init__(self, x,y):\n",
    "        self.x=x\n",
    "        self.y=y\n",
    "    def __add__(self,other):\n",
    "        return coordinate(self.x+other.x, self.y+other.y)"
   ]
  },
  {
   "cell_type": "code",
   "execution_count": 90,
   "metadata": {},
   "outputs": [
    {
     "name": "stdout",
     "output_type": "stream",
     "text": [
      "8\n",
      "16\n"
     ]
    }
   ],
   "source": [
    "coord1=coordinate(5,7)\n",
    "coord2=coordinate(3,9)\n",
    "coord3=coord1+coord2\n",
    "print(coord3.x)\n",
    "print(coord3.y)"
   ]
  },
  {
   "cell_type": "code",
   "execution_count": null,
   "metadata": {},
   "outputs": [],
   "source": [
    "class SpecialString:\n",
    "    def __init__(self, cont):\n",
    "        self.cont=cont\n",
    "    \n",
    "    def __gt__(self, other):\n",
    "        for index in range(len(other.cont)+1):\n",
    "            result=other.cont[:index]+\">\"+self.cont\n",
    "            result+=\">\"+other.cont"
   ]
  },
  {
   "cell_type": "markdown",
   "metadata": {},
   "source": [
    "문제3 기준 날짜에서 날짜 수만큼 진행한 후의 날짜를 출력한다. 하루를 증가시키는 멤버 함수 increment()를 구현하여 사용한다. 필요하면 보조 멤버 함수를 추가하여 사용한다."
   ]
  },
  {
   "cell_type": "code",
   "execution_count": 22,
   "metadata": {},
   "outputs": [],
   "source": [
    "#수업시간 배운 함수 사용\n",
    "#리스트에 있는 날짜에서 가장 오래된 날짜와 가장 늦은 날짜를 출력\n",
    "\n",
    "class DatePlus:\n",
    "    def __init__(self, year,month, day,afterd):\n",
    "        self.year=year\n",
    "        self.month=month\n",
    "        self.day=day\n",
    "        self.afterd=afterd\n",
    "    \n",
    "    #구현해야 할 멤버 함수\n",
    "\n",
    "    \n",
    "        \n",
    "    def __str__(self):\n",
    "        return \"{0}/{1}/{2}  {3}일 후==>\".format(self.year, self.month, self.day, self.afterd)   #매직메서드 정의\n",
    "\n",
    "def increment(self):\n",
    "    if self.day == self.lastDayOfTheMonth():\n",
    "        self.day = 1\n",
    "        if self.month == 12:\n",
    "            self.month = 1\n",
    "            self.year += 1\n",
    "        else:\n",
    "            self.month += 1\n",
    "    else:\n",
    "        self.day += 1\n",
    "    return self\n",
    "\n"
   ]
  },
  {
   "cell_type": "code",
   "execution_count": 23,
   "metadata": {
    "scrolled": true
   },
   "outputs": [
    {
     "name": "stdout",
     "output_type": "stream",
     "text": [
      "[2014, 1, 28, 5]\n",
      "[2014, 12, 28, 10]\n",
      "[2005, 1, 5, 39]\n",
      "[2011, 5, 5, 150]\n",
      "[2012, 7, 5, 555]\n",
      "[2010, 2, 10, 1300]\n",
      "[1967, 4, 26, 30000]\n",
      "2014/1/28  5일 후==>\n"
     ]
    },
    {
     "ename": "NameError",
     "evalue": "name 'increment' is not defined",
     "output_type": "error",
     "traceback": [
      "\u001b[1;31m---------------------------------------------------------------------------\u001b[0m",
      "\u001b[1;31mNameError\u001b[0m                                 Traceback (most recent call last)",
      "\u001b[1;32m<ipython-input-23-ff6bde5c5ce2>\u001b[0m in \u001b[0;36m<module>\u001b[1;34m\u001b[0m\n\u001b[0;32m     18\u001b[0m     \u001b[0minFile\u001b[0m\u001b[1;33m.\u001b[0m\u001b[0mclose\u001b[0m\u001b[1;33m(\u001b[0m\u001b[1;33m)\u001b[0m\u001b[1;33m\u001b[0m\u001b[1;33m\u001b[0m\u001b[0m\n\u001b[0;32m     19\u001b[0m \u001b[1;33m\u001b[0m\u001b[0m\n\u001b[1;32m---> 20\u001b[1;33m \u001b[0mmain\u001b[0m\u001b[1;33m(\u001b[0m\u001b[1;33m)\u001b[0m\u001b[1;33m\u001b[0m\u001b[1;33m\u001b[0m\u001b[0m\n\u001b[0m",
      "\u001b[1;32m<ipython-input-23-ff6bde5c5ce2>\u001b[0m in \u001b[0;36mmain\u001b[1;34m()\u001b[0m\n\u001b[0;32m     14\u001b[0m     \u001b[1;32mfor\u001b[0m \u001b[0mi\u001b[0m \u001b[1;32min\u001b[0m \u001b[0mrange\u001b[0m\u001b[1;33m(\u001b[0m\u001b[0mlen\u001b[0m\u001b[1;33m(\u001b[0m\u001b[0mlst\u001b[0m\u001b[1;33m)\u001b[0m\u001b[1;33m)\u001b[0m\u001b[1;33m:\u001b[0m\u001b[1;33m\u001b[0m\u001b[1;33m\u001b[0m\u001b[0m\n\u001b[0;32m     15\u001b[0m         \u001b[0mprint\u001b[0m\u001b[1;33m(\u001b[0m\u001b[0mlst\u001b[0m\u001b[1;33m[\u001b[0m\u001b[0mi\u001b[0m\u001b[1;33m]\u001b[0m\u001b[1;33m)\u001b[0m                                \u001b[1;31m#lst를 fimdMinMax에 넣음\u001b[0m\u001b[1;33m\u001b[0m\u001b[1;33m\u001b[0m\u001b[0m\n\u001b[1;32m---> 16\u001b[1;33m         \u001b[0mself\u001b[0m\u001b[1;33m=\u001b[0m\u001b[0mincrement\u001b[0m\u001b[1;33m(\u001b[0m\u001b[0mlst\u001b[0m\u001b[1;33m)\u001b[0m\u001b[1;33m\u001b[0m\u001b[1;33m\u001b[0m\u001b[0m\n\u001b[0m\u001b[0;32m     17\u001b[0m \u001b[1;33m\u001b[0m\u001b[0m\n\u001b[0;32m     18\u001b[0m     \u001b[0minFile\u001b[0m\u001b[1;33m.\u001b[0m\u001b[0mclose\u001b[0m\u001b[1;33m(\u001b[0m\u001b[1;33m)\u001b[0m\u001b[1;33m\u001b[0m\u001b[1;33m\u001b[0m\u001b[0m\n",
      "\u001b[1;31mNameError\u001b[0m: name 'increment' is not defined"
     ]
    }
   ],
   "source": [
    "#주어진 파일을 읽어 날짜를 리스트에 저장    \n",
    "def main():\n",
    "    inFile=open(\"input2.txt\", \"r\")\n",
    "    lst=[]\n",
    "    while True:\n",
    "        line=inFile.readline()\n",
    "        if line==\"\":\n",
    "            break\n",
    "            \n",
    "        date=[int(i) for i in line.split()]\n",
    "        print(date)\n",
    "        lst.append(DatePlus(date[0], date[1], date[2], date[3]))   #yyyy/mm/dd 형테로 lst에 저장됨\n",
    "        \n",
    "    for i in range(len(lst)):                      \n",
    "        print(lst[i])                                #lst를 fimdMinMax에 넣음\n",
    "        self=increment(lst)\n",
    "\n",
    "    inFile.close()\n",
    "\n",
    "main()    "
   ]
  },
  {
   "cell_type": "markdown",
   "metadata": {},
   "source": [
    "#\n",
    "class DatePlus(Date):\n",
    "    def __init__(self, year,month, day,lastDayOfTheMonth):\n",
    "        super().__init__(year,month, day)\n",
    "        self.lastDayOfTheMonth=lastDayOfTheMonth\n",
    "        \n",
    "    def lastDayOfTheMonth():\n",
    "        if self.month in [1,3,5,7,8,10,12]:\n",
    "            lastDayOfTheMonth=31\n",
    "        if self.month == 2 and self.year%4==0:\n",
    "            lastDayOfTheMonth=29\n",
    "        if self.month ==2 and self.year%4!=0:\n",
    "            lastDayOfTheMonth=28\n",
    "        else:\n",
    "            lastDayOfTheMonth=30          \n",
    "    \n",
    "    def increment(self):\n",
    "            if self.day == self.lastDayOfTheMonth:\n",
    "                self.day = 1\n",
    "                if self.month == 12:\n",
    "                    self.month = 1\n",
    "                    self.year += 1\n",
    "                else:\n",
    "                    self.month += 1\n",
    "            else:\n",
    "                self.day += 1\n",
    "            return self\n",
    "        \n",
    "    def __str()__(self):\n",
    "        if self.\n",
    "\n",
    "\n",
    "  \n",
    "            \n",
    "    def __str__(self):\n",
    "        print(\"{0} {1}일 후 ==>{2}\".format(lst[i],date[3], self.increment(self)))\n"
   ]
  },
  {
   "cell_type": "markdown",
   "metadata": {},
   "source": [
    "#주어진 파일을 읽어 날짜를 리스트에 저장    \n",
    "def main():\n",
    "    inFile=open(\"input2.txt\", \"r\")\n",
    "    lst=[]\n",
    "    while True:\n",
    "        line=inFile.readline()\n",
    "        if line==\"\":\n",
    "            break\n",
    "            \n",
    "        date=[int(i) for i in line.split()]\n",
    "        lst.append(Date(date[0], date[1], date[2]))\n",
    "        \n",
    "    for i in range(len(lst)):\n",
    "\n",
    "    inFile.close()\n",
    "    \n",
    "main()    "
   ]
  }
 ],
 "metadata": {
  "kernelspec": {
   "display_name": "Python 3",
   "language": "python",
   "name": "python3"
  },
  "language_info": {
   "codemirror_mode": {
    "name": "ipython",
    "version": 3
   },
   "file_extension": ".py",
   "mimetype": "text/x-python",
   "name": "python",
   "nbconvert_exporter": "python",
   "pygments_lexer": "ipython3",
   "version": "3.8.8"
  }
 },
 "nbformat": 4,
 "nbformat_minor": 4
}
