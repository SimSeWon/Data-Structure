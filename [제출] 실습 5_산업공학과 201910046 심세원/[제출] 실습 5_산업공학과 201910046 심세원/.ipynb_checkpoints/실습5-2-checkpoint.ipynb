{
 "cells": [
  {
   "cell_type": "markdown",
   "metadata": {},
   "source": [
    "# 문제 2 : 데이터 분류\n",
    "\n",
    "문제 1에서 만든 클래스 큐를 사용하여 입력 파일 “input.txt”에 있는 데이터를 문자열, 정수, 실수로 분류하여 3개의 큐를 만들어 저장한다. 정수와 실수가 저장된 큐는 데이터 합을 구해 출력한다."
   ]
  },
  {
   "cell_type": "code",
   "execution_count": 84,
   "metadata": {},
   "outputs": [],
   "source": [
    "def main():\n",
    "    word=[]\n",
    "    StringData=[]\n",
    "    IntegerData=[]\n",
    "    FloatData=[]\n",
    "    SumofInteger=0\n",
    "    SumofFloat=0\n",
    "    inFile=open(\"input.txt\")\n",
    "    \n",
    "    while True:\n",
    "        line=inFile.readline()\n",
    "        if line=='':\n",
    "            break\n",
    "            \n",
    "        for i in line.split():\n",
    "            word.append(i)\n",
    "            \n",
    "    inFile.close()\n",
    "    \n",
    "    for i in word:\n",
    "        if i.isdigit()==True:\n",
    "            IntegerData.append(i)\n",
    "            \n",
    "        else:\n",
    "            try:\n",
    "                float(i)\n",
    "                FloatData.append(i)\n",
    "            except ValueError:\n",
    "                StringData.append(i)\n",
    "            \n",
    "    \n",
    "    for i in IntegerData:\n",
    "        SumofInteger+=int(i)\n",
    "    for i in FloatData:\n",
    "        SumofFloat+=float(i)        \n",
    "\n",
    "    print(\"String data: \",StringData)\n",
    "    print(\"Ingeger data: \",IntegerData)\n",
    "    print(\"Float data: \",FloatData)\n",
    "    print(\"Sum of integer data: \",SumofInteger)\n",
    "    print(\"Sum of float data: \",SumofFloat)"
   ]
  },
  {
   "cell_type": "code",
   "execution_count": 85,
   "metadata": {},
   "outputs": [
    {
     "name": "stdout",
     "output_type": "stream",
     "text": [
      "String data:  ['Hello', 'World', 'Java', 'Python', 'data', 'structures']\n",
      "Ingeger data:  ['1', '2', '3', '22']\n",
      "Float data:  ['10.5', '12345.678', '11.5', '150.0']\n",
      "Sum of integer data:  28\n",
      "Sum of float data:  12517.678\n"
     ]
    }
   ],
   "source": [
    "main()"
   ]
  }
 ],
 "metadata": {
  "kernelspec": {
   "display_name": "Python 3",
   "language": "python",
   "name": "python3"
  },
  "language_info": {
   "codemirror_mode": {
    "name": "ipython",
    "version": 3
   },
   "file_extension": ".py",
   "mimetype": "text/x-python",
   "name": "python",
   "nbconvert_exporter": "python",
   "pygments_lexer": "ipython3",
   "version": "3.7.6"
  }
 },
 "nbformat": 4,
 "nbformat_minor": 4
}
