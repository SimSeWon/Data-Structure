{
 "cells": [
  {
   "cell_type": "markdown",
   "metadata": {},
   "source": [
    "# 문제 1"
   ]
  },
  {
   "cell_type": "code",
   "execution_count": 4,
   "metadata": {},
   "outputs": [],
   "source": [
    "MAX_QSIZE=3\n",
    "class CircularQueue:\n",
    "    def __init__(self):\n",
    "        self.items=[None]*MAX_QSIZE\n",
    "        self.front=0\n",
    "        self.rear=0\n",
    "        self.count=0\n",
    "        self.maxSize=MAX_QSIZE\n",
    "        \n",
    "    def isEmpty(self):\n",
    "        return self.count==0\n",
    "    \n",
    "    def isFull(self):\n",
    "        return self.front==(self.rear+1)%self.maxSize\n",
    "    \n",
    "    def clear(self):\n",
    "        self.front=0\n",
    "        self.rear=0\n",
    "        self.count=0\n",
    "        self.maxSize=MAX_QSIZE\n",
    "        \n",
    "    def enqueue(self, item):\n",
    "        if self.isFull():\n",
    "            self.resize()\n",
    "            #print(self.items)\n",
    "            \n",
    "        self.rear=(self.rear+1)%self.maxSize\n",
    "        self.items[self.rear]=item\n",
    "        self.count+=1\n",
    "#         self.items.append(item)\n",
    "        \n",
    "            \n",
    "    def dequeue(self):\n",
    "        if not self.isEmpty():\n",
    "            self.front=(self.front+1)%self.maxSize\n",
    "            self.count-=1\n",
    "            return print(self.items[self.front])\n",
    "        \n",
    "    def resize(self):\n",
    "        newItems=[None]*2*self.maxSize\n",
    "        scan=(self.front+1)%self.maxSize\n",
    "        for i in range(self.count):\n",
    "            newItems[i+1]=self.items[scan]\n",
    "            scan=(scan+1)%self.maxSize\n",
    "        self.items=newItems\n",
    "        self.front=0\n",
    "        self.rear=self.count\n",
    "        self.maxSize=2*self.maxSize\n",
    "        \n",
    "    def peek(self):\n",
    "        if not self.isEmpty():\n",
    "            return print(self.items[(self.front+1)%self.maxSize])\n",
    "        \n",
    "    def size(self):\n",
    "        return print(\"size: \",self.count)\n",
    "    \n",
    "    def print(self):\n",
    "        out=[]\n",
    "        if self.front<self.rear:\n",
    "            out=self.items[self.front+1:self.rear+1]\n",
    "        else:\n",
    "            out=self.items[self.front+1:MAX_QSIZE]\\\n",
    "            +self.items[0:self.rear+1]\n",
    "        print(out)\n",
    "#         print(\"[f=%s, r=%d] ==>\"%(self.front, self.rear), out)"
   ]
  },
  {
   "cell_type": "code",
   "execution_count": 5,
   "metadata": {},
   "outputs": [],
   "source": [
    "def main():\n",
    "    q=CircularQueue()\n",
    "    print(\"Enter a command: e(nqueue), d(equeue), peek, s(size), p(rint), or q(uit)\", end='')\n",
    "    while True:\n",
    "        command=[]\n",
    "        command=input().split()\n",
    "        if command[0]==\"q\":\n",
    "            break\n",
    "        if command[0]=='e':\n",
    "            q.enqueue(command[1])\n",
    "        if command[0]=='d':\n",
    "            q.dequeue()\n",
    "        if command[0]=='peek':\n",
    "            q.peek()            \n",
    "        if command[0]=='s':\n",
    "            q.size()\n",
    "        if command[0]=='resize':\n",
    "            q.size()            \n",
    "        if command[0]=='p':\n",
    "            q.print()   \n",
    "    "
   ]
  },
  {
   "cell_type": "code",
   "execution_count": 6,
   "metadata": {
    "scrolled": true
   },
   "outputs": [
    {
     "name": "stdout",
     "output_type": "stream",
     "text": [
      "Enter a command: e(nqueue), d(equeue), peek, s(size), p(rint), or q(uit)e 1\n",
      "e 2\n",
      "e 3\n",
      "e 4\n",
      "e 5\n",
      "e 6\n",
      "p\n",
      "['1', '2', '3', '4', '5', '6']\n",
      "d\n",
      "1\n",
      "d\n",
      "2\n",
      "p\n",
      "['3', '4', '5', '6']\n",
      "s\n",
      "size:  4\n",
      "peek\n",
      "3\n",
      "e 11\n",
      "e 22\n",
      "e 33\n",
      "e 44\n",
      "e 55\n",
      "p\n",
      "['3', '4', '5', '6', '11', '22', '33', '44', '55']\n",
      "d\n",
      "3\n",
      "d\n",
      "4\n",
      "p\n",
      "['5', '6', '11', '22', '33', '44', '55']\n",
      "size\n",
      "peek\n",
      "5\n",
      "q\n"
     ]
    }
   ],
   "source": [
    "#결과\n",
    "main()"
   ]
  },
  {
   "cell_type": "markdown",
   "metadata": {},
   "source": []
  }
 ],
 "metadata": {
  "interpreter": {
   "hash": "cf3288b8506cc02f84e94f7e6ab7e7a471ae523892ded58d3f426cdb17bd3273"
  },
  "kernelspec": {
   "display_name": "Python 3",
   "language": "python",
   "name": "python3"
  },
  "language_info": {
   "codemirror_mode": {
    "name": "ipython",
    "version": 3
   },
   "file_extension": ".py",
   "mimetype": "text/x-python",
   "name": "python",
   "nbconvert_exporter": "python",
   "pygments_lexer": "ipython3",
   "version": "3.7.6"
  }
 },
 "nbformat": 4,
 "nbformat_minor": 4
}
