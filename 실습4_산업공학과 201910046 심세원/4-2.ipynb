{
 "cells": [
  {
   "cell_type": "code",
   "execution_count": 9,
   "metadata": {},
   "outputs": [],
   "source": [
    "def Stack():\n",
    "    def __init__(self):\n",
    "        self.top=[]\n",
    "        \n",
    "    def push(self,item):\n",
    "        self.top.append(item)  \n",
    "        \n",
    "    def pop(self):\n",
    "        if not self.isEmpty():\n",
    "            return self.top.pop(-1)\n",
    "    def isEmpty(self):\n",
    "        return len(self.top)==0"
   ]
  },
  {
   "cell_type": "code",
   "execution_count": 121,
   "metadata": {},
   "outputs": [],
   "source": [
    "#십진수->이진수변환 함수\n",
    "def decimalToBinary(number):\n",
    "    number=int(number)\n",
    "    binary=[]\n",
    "    binaryToStack=[]\n",
    "    \n",
    "    while True:\n",
    "        remainder=number%2\n",
    "        quotient=number//2\n",
    "    \n",
    "        number=quotient\n",
    "        #print(number)\n",
    "        binary.append(remainder)\n",
    "        if number<2: \n",
    "            binary.append(quotient)\n",
    "            #print(binary)\n",
    "            for i in binary[::-1]:\n",
    "                #print(i)\n",
    "                p=binary.pop(-1)\n",
    "                binaryToStack.append(i)\n",
    "                binaryToStackStr=''.join(map(str,binaryToStack))\n",
    "            break\n",
    "    #return str(int(''.join(binaryToStack)))\n",
    "    return binaryToStackStr"
   ]
  },
  {
   "cell_type": "code",
   "execution_count": 122,
   "metadata": {},
   "outputs": [],
   "source": [
    "def main():\n",
    "    \n",
    "    while True:    \n",
    "        decimalNumber=int(input(\"Enter a decimal number:\"))\n",
    "        if decimalNumber==-1:\n",
    "            break\n",
    "        print(\"{0} ==>{1} \".format(decimalNumber,decimalToBinary(decimalNumber)))\n",
    "        "
   ]
  },
  {
   "cell_type": "code",
   "execution_count": 123,
   "metadata": {},
   "outputs": [
    {
     "name": "stdout",
     "output_type": "stream",
     "text": [
      "Enter a decimal number:11\n",
      "11 ==>1011 \n",
      "Enter a decimal number:234\n",
      "234 ==>11101010 \n",
      "Enter a decimal number:123456789\n",
      "123456789 ==>111010110111100110100010101 \n",
      "Enter a decimal number:6\n",
      "6 ==>110 \n",
      "Enter a decimal number:12\n",
      "12 ==>1100 \n",
      "Enter a decimal number:-1\n"
     ]
    }
   ],
   "source": [
    "#결과\n",
    "main()"
   ]
  },
  {
   "cell_type": "code",
   "execution_count": 60,
   "metadata": {},
   "outputs": [
    {
     "name": "stdout",
     "output_type": "stream",
     "text": [
      "abc\n"
     ]
    }
   ],
   "source": [
    "A = [\"a\", \"b\", \"c\"]\n",
    "StrA = \"\".join(A)\n",
    "print(StrA)"
   ]
  }
 ],
 "metadata": {
  "kernelspec": {
   "display_name": "Python 3",
   "language": "python",
   "name": "python3"
  },
  "language_info": {
   "codemirror_mode": {
    "name": "ipython",
    "version": 3
   },
   "file_extension": ".py",
   "mimetype": "text/x-python",
   "name": "python",
   "nbconvert_exporter": "python",
   "pygments_lexer": "ipython3",
   "version": "3.7.6"
  }
 },
 "nbformat": 4,
 "nbformat_minor": 5
}
