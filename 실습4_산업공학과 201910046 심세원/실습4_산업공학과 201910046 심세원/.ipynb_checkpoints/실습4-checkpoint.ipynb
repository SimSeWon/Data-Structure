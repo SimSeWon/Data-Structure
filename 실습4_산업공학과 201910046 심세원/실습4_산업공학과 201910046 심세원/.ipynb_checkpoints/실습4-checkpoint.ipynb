{
 "cells": [
  {
   "cell_type": "markdown",
   "metadata": {},
   "source": [
    "# 문제1: 스택 구현 \n",
    "\n",
    "스택을 클래스 사용하여 구현한다. 클래스 Stack을 다음과 같이 정의할 때 구현되지 않은 멤버 함수를 구현하고 실행한 결과와 같이 되도록 코딩한다. 명령 프롬프트에서 m을 입력하면 파일 “input.txt”에 있는 문장을 한 라인씩 읽어 괄호 쌍을 검사한다."
   ]
  },
  {
   "cell_type": "code",
   "execution_count": 1,
   "metadata": {},
   "outputs": [],
   "source": [
    "class Stack:\n",
    "    def __init__(self):\n",
    "        self.top=[]\n",
    "    \n",
    "    def isEmpty(self):\n",
    "        return len(self.top)==0\n",
    "    \n",
    "    def size(self):\n",
    "        return len(self.top)\n",
    "    \n",
    "    def clear(self):\n",
    "        self.top=[]\n",
    "        \n",
    "    def push(self, item):\n",
    "        self.top.append(item)\n",
    "    \n",
    "    def pop(self):\n",
    "        if not self.isEmpty():\n",
    "            return self.top.pop(-1)\n",
    "        \n",
    "    def peek(self):    #맨 위의 항목을 삭제하지않고 반환\n",
    "        if not self.isEmpty():\n",
    "            return self.top[-1]\n",
    "        \n",
    "    def __str__(self):\n",
    "        #return self.top\n",
    "        return str(self.top[::-1])"
   ]
  },
  {
   "cell_type": "code",
   "execution_count": 6,
   "metadata": {},
   "outputs": [],
   "source": [
    "def myEditor():\n",
    "    print(\"Enter a command: pop, push, peek, size, empty, p(rint), m(atch), q(uit)\")\n",
    "    s=Stack()\n",
    "    while True:\n",
    "        c=[]\n",
    "        c=input().split()\n",
    "        \n",
    "        if c[0]=='pop':\n",
    "            print(s.pop())\n",
    "            \n",
    "        if c[0]=='push':\n",
    "            s.push(c[1]) \n",
    "            \n",
    "        if c[0]=='peek':\n",
    "            print(s.peek())\n",
    "            \n",
    "        if c[0]=='size':\n",
    "            print(s.size()) \n",
    "            \n",
    "        if c[0]=='empty':\n",
    "            print(s.isEmpty())\n",
    "            \n",
    "        if c[0]=='p':    #print\n",
    "            print(s)  \n",
    "            \n",
    "        if c[0]=='m':    #match\n",
    "            filename='input.txt'\n",
    "            infile=open(filename, \"r\")\n",
    "            lines=infile.readlines()\n",
    "            infile.close()\n",
    "            \n",
    "            ##각 라인에 대한 match여부 판단해주는 거 호출\n",
    "            for line in lines:\n",
    "                result=checkBrackets(line)\n",
    "                r=match(result)\n",
    "                print(line, r)\n",
    "                print(\" \")\n",
    "            \n",
    "            \n",
    "            \n",
    "        if c[0]=='q':\n",
    "            break            \n",
    "            \n",
    "            \n",
    "    "
   ]
  },
  {
   "cell_type": "code",
   "execution_count": 3,
   "metadata": {},
   "outputs": [],
   "source": [
    "def checkBrackets(statement):\n",
    "    stack=Stack()\n",
    "     \n",
    "    for ch in statement:\n",
    "        if ch in ('{','[','('):\n",
    "            stack.push(ch)\n",
    "        elif ch in ('}',']',')'):\n",
    "            if stack.isEmpty():\n",
    "                return False\n",
    "            else:\n",
    "                left=stack.pop()\n",
    "                if (ch=='}' and left != '{') or \\\n",
    "                   (ch==']' and left != '[') or \\\n",
    "                   (ch==')' and left != '('):\n",
    "                    return False\n",
    "                \n",
    "    return stack.isEmpty()"
   ]
  },
  {
   "cell_type": "code",
   "execution_count": 4,
   "metadata": {},
   "outputs": [],
   "source": [
    "def match(result):\n",
    "    \n",
    "    \n",
    "    if result==True:\n",
    "        return \"matched\"\n",
    "        \n",
    "    else:\n",
    "        return 'not matched'"
   ]
  },
  {
   "cell_type": "markdown",
   "metadata": {},
   "source": [
    "## 문제 1 결과"
   ]
  },
  {
   "cell_type": "code",
   "execution_count": 7,
   "metadata": {
    "scrolled": true
   },
   "outputs": [
    {
     "name": "stdout",
     "output_type": "stream",
     "text": [
      "Enter a command: pop, push, peek, size, empty, p(rint), m(atch), q(uit)\n",
      "m\n",
      "[()]\n",
      " matched\n",
      " \n",
      "{[()]}\n",
      " matched\n",
      " \n",
      "{([])}\n",
      " matched\n",
      " \n",
      "[ ] [ ] [ ] ( ) { }\n",
      " matched\n",
      " \n",
      "[ [ [ { { ( ( ( ) ) ) } } ] ] ] ( )\n",
      " matched\n",
      " \n",
      "{())\n",
      " not matched\n",
      " \n",
      "{{}]\n",
      " not matched\n",
      " \n",
      "{([[]])}\n",
      " matched\n",
      " \n",
      "{( ) }\n",
      " matched\n",
      " \n",
      "[ ( ] )\n",
      " not matched\n",
      " \n",
      "(())))\n",
      " not matched\n",
      " \n",
      "((()))\n",
      " matched\n",
      " \n",
      "(()(()\n",
      " not matched\n",
      " \n",
      "()()\n",
      " matched\n",
      " \n",
      "((())\n",
      " not matched\n",
      " \n",
      "())\n",
      " not matched\n",
      " \n",
      "(30 - 49) * (444 + 30)\n",
      " matched\n",
      " \n",
      "((3 + 4) * (30+ 40) + 400)\n",
      " matched\n",
      " \n",
      "((43 + 89)*4-(9+4))*3 - (883 + 2*(30+48))\n",
      " matched\n",
      " \n",
      "((43 + 89)*4-(9+4))*3 - ((883 + 2*(30+48))\n",
      " not matched\n",
      " \n",
      "q\n"
     ]
    }
   ],
   "source": [
    "myEditor()"
   ]
  },
  {
   "cell_type": "markdown",
   "metadata": {},
   "source": [
    "# 문제 2: 십진수를 이진수로 변환\n",
    "\n",
    "문제 1에서 만든 클래스 Stack을 사용하여 십진수를 이진수로 변환하는 함수를 만들어 테스트한다. 십진수를 입력하면 이진수로 바꾸어 출력하되 -1을 입력하면 종료한다.\n",
    "\n",
    "십진수를 이진수로 변환하는 방법은 다음과 같이 스택을 사용하여 변환한다. 예를 들면 십진수 11을 이진수로 나타내면 1011이 된다. 십진수 11을 2로 나눈 나머지 1을 스택에 저장하고 몫 5를 다시 2로 나누어 나머지 1을 스택에 저장하고 또 몫 2를 2로 나누어 나머지 0을 스택에 저장하며, 이 과정을 반복해서 2미만이 된 몫을 스택에 저장한 후 스택에 저장된 숫자를 pop하여 출력하면 원하는 이진수를 얻게 된다.\n"
   ]
  },
  {
   "cell_type": "code",
   "execution_count": null,
   "metadata": {},
   "outputs": [],
   "source": []
  }
 ],
 "metadata": {
  "kernelspec": {
   "display_name": "Python 3",
   "language": "python",
   "name": "python3"
  },
  "language_info": {
   "codemirror_mode": {
    "name": "ipython",
    "version": 3
   },
   "file_extension": ".py",
   "mimetype": "text/x-python",
   "name": "python",
   "nbconvert_exporter": "python",
   "pygments_lexer": "ipython3",
   "version": "3.7.6"
  }
 },
 "nbformat": 4,
 "nbformat_minor": 4
}
