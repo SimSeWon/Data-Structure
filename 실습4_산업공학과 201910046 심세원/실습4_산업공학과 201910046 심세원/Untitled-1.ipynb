{
 "cells": [
  {
   "cell_type": "code",
   "execution_count": 1,
   "metadata": {},
   "outputs": [],
   "source": [
    "def str():\n",
    "    a='z'\n",
    "    b='zz'\n",
    "    c='zzz'\n",
    "    return print(a,b,c)"
   ]
  },
  {
   "cell_type": "code",
   "execution_count": 2,
   "metadata": {},
   "outputs": [],
   "source": [
    "def main():\n",
    "    \n",
    "    map=str()\n",
    "\n",
    "    print(map)"
   ]
  }
 ],
 "metadata": {
  "interpreter": {
   "hash": "97130045a27e42442cab4749e275979343a3964741d643834d917c874c99a835"
  },
  "kernelspec": {
   "display_name": "Python 3.9.6 64-bit",
   "name": "python3"
  },
  "language_info": {
   "codemirror_mode": {
    "name": "ipython",
    "version": 3
   },
   "file_extension": ".py",
   "mimetype": "text/x-python",
   "name": "python",
   "nbconvert_exporter": "python",
   "pygments_lexer": "ipython3",
   "version": "3.9.6"
  },
  "orig_nbformat": 4
 },
 "nbformat": 4,
 "nbformat_minor": 2
}
