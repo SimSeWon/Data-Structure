{
 "cells": [
  {
   "cell_type": "code",
   "execution_count": 3,
   "metadata": {},
   "outputs": [],
   "source": [
    "def read_maze():\n",
    "    map=[]\n",
    "    blank=[]\n",
    "    inFile=open(\"maze.txt\", \"r\")\n",
    "    lst=[]\n",
    "    while True:\n",
    "        line=inFile.readline()\n",
    "        if line==\"\":\n",
    "            break\n",
    "            \n",
    "        maze_line=[i for i in line.split()]\n",
    "        \n",
    "        for i in maze_line:\n",
    "            stringToList=list(i)\n",
    "            \n",
    "        stringToList.insert(0,'1')    #행렬이 1에서부터 시작하도록 0열의 위치에 1값 추가\n",
    "        \n",
    "        \n",
    "        map.append(stringToList)\n",
    "    map.insert(1,blank)              #행렬이 1에서부터 시작하도록 0열의 위치에 빈 리스트 삽입\n",
    "    inFile.close()\n",
    "\n",
    "    return map[1:-1]\n",
    "    #maze_point=maze_point[1:-1]\n",
    "            \n",
    "    "
   ]
  },
  {
   "cell_type": "code",
   "execution_count": 4,
   "metadata": {},
   "outputs": [],
   "source": [
    "class Stack():\n",
    "    def __init__(self):\n",
    "        self.top=[]\n",
    "        \n",
    "    def push(self,itemX,itemY):\n",
    "        self.top.insert(0,(int(itemX),int(itemY))) \n",
    "        \n",
    "    def pop(self):\n",
    "        if not self.isEmpty():\n",
    "            return self.top.pop(0)\n",
    "    def isEmpty(self):\n",
    "        return len(self.top)==0"
   ]
  },
  {
   "cell_type": "code",
   "execution_count": 5,
   "metadata": {},
   "outputs": [],
   "source": [
    "def isValidPos(map, x,y):\n",
    "    #map=read_maze()\n",
    "    MAZE_X_SIZE=12\n",
    "    MAZE_Y_SIZE=20\n",
    "    if x<1 or y<1 or x>=MAZE_X_SIZE or y>=MAZE_Y_SIZE or map[x][y]==1 :\n",
    "        return False\n",
    "    else:\n",
    "        return map[x][y]=='0' or map[x][y]=='E'"
   ]
  },
  {
   "cell_type": "code",
   "execution_count": 6,
   "metadata": {},
   "outputs": [],
   "source": [
    "def DFS(locationX, locationY):\n",
    "    stack=Stack()\n",
    "  \n",
    "    map=read_maze()\n",
    "    stack.push(locationX,locationY)  #출발위치\n",
    "    #print('DFS: ',stack.top)\n",
    "       \n",
    "    while not stack.isEmpty():\n",
    "        here=stack.pop()\n",
    "        #print(here, end='->')\n",
    "        (locationX,locationY)=here\n",
    "        \n",
    "        if (map[locationX][locationY]=='E'):\n",
    "            return True\n",
    "        \n",
    "        else:\n",
    "\n",
    "            map[locationX][locationY]='1'\n",
    "            if isValidPos(map, locationX-1,locationY):    #상\n",
    "                stack.push(locationX-1,locationY)\n",
    "                \n",
    "                #print(stack.top)\n",
    "                \n",
    "            if isValidPos(map,locationX+1,locationY):    #하\n",
    "                stack.push(locationX+1,locationY)\n",
    "                  \n",
    "                #print(stack.top)\n",
    "    \n",
    "            if isValidPos(map,locationX,locationY-1):     #좌\n",
    "                stack.push(locationX,locationY-1)\n",
    "\n",
    "#                 #print(stack.top)\n",
    "\n",
    "            if isValidPos(map, locationX,locationY+1):    #우\n",
    "                stack.push(locationX,locationY+1)\n",
    "\n",
    "#     #             #print(stack.top)\n",
    "\n",
    "\n",
    "\n",
    "        \n",
    "        #stack.top=stack.top[::-1]\n",
    "        #print('현재 스택:', stack.top)\n",
    "    return False"
   ]
  },
  {
   "cell_type": "code",
   "execution_count": 7,
   "metadata": {},
   "outputs": [],
   "source": [
    "def result(TF):\n",
    "    success='0, 성공'\n",
    "    fail='X, 실패'\n",
    "    if TF==True:\n",
    "        return success\n",
    "    else: return fail"
   ]
  },
  {
   "cell_type": "code",
   "execution_count": 24,
   "metadata": {},
   "outputs": [],
   "source": [
    "def main():\n",
    "    inFile=open(\"input1.txt\", \"r\")\n",
    "    lst=[]\n",
    "    while True:\n",
    "        line=inFile.readline()\n",
    "        if line==\"\":\n",
    "            break\n",
    "            \n",
    "        location=[int(i) for i in line.split()]\n",
    "        #print(\"({0},{1})에서 출발 ==>{2:>10}\".format(location[0],location[1],result(DFS(location[0], location[1])) ))\n",
    "        print(\"(%d, %d)에서 출발  ==>    %s\"%(location[0],location[1],result(DFS(location[0], location[1]))))\n",
    "        #테스트 프로그램\n",
    "        \n"
   ]
  },
  {
   "cell_type": "code",
   "execution_count": 25,
   "metadata": {},
   "outputs": [
    {
     "name": "stdout",
     "output_type": "stream",
     "text": [
      "(1, 7)에서 출발  ==>    X, 실패\n",
      "(7, 6)에서 출발  ==>    0, 성공\n",
      "(8, 5)에서 출발  ==>    0, 성공\n",
      "(10, 5)에서 출발  ==>    0, 성공\n",
      "(7, 10)에서 출발  ==>    0, 성공\n",
      "(11, 4)에서 출발  ==>    0, 성공\n",
      "(5, 6)에서 출발  ==>    X, 실패\n",
      "(12, 8)에서 출발  ==>    0, 성공\n",
      "(2, 12)에서 출발  ==>    X, 실패\n",
      "(11, 8)에서 출발  ==>    0, 성공\n",
      "(2, 3)에서 출발  ==>    X, 실패\n",
      "(9, 8)에서 출발  ==>    0, 성공\n",
      "(11, 11)에서 출발  ==>    0, 성공\n",
      "(1, 11)에서 출발  ==>    X, 실패\n",
      "(10, 14)에서 출발  ==>    0, 성공\n",
      "(7, 15)에서 출발  ==>    0, 성공\n"
     ]
    }
   ],
   "source": [
    "main()"
   ]
  }
 ],
 "metadata": {
  "kernelspec": {
   "display_name": "Python 3",
   "language": "python",
   "name": "python3"
  },
  "language_info": {
   "codemirror_mode": {
    "name": "ipython",
    "version": 3
   },
   "file_extension": ".py",
   "mimetype": "text/x-python",
   "name": "python",
   "nbconvert_exporter": "python",
   "pygments_lexer": "ipython3",
   "version": "3.7.6"
  }
 },
 "nbformat": 4,
 "nbformat_minor": 4
}
