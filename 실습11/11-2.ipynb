{
 "cells": [
  {
   "cell_type": "code",
   "execution_count": 1,
   "metadata": {},
   "outputs": [],
   "source": [
    "import random\n",
    "import copy\n",
    "from sorting import insertionSort\n",
    "\n",
    "n = int(input(\"Enter a number of data: \"))\n",
    "data = []\n",
    "for i in range(n):\n",
    "    numbers = random.randint(0, n)\n",
    "    data.append(numbers)\n",
    "d = copy.deepcopy(data)\n"
   ]
  },
  {
   "cell_type": "code",
   "execution_count": 22,
   "metadata": {},
   "outputs": [],
   "source": [
    "def main():\n",
    "    import time\n",
    "    import random\n",
    "    import copy\n",
    "    from sorting import bubbleSort,insertionSort,selectionSort\n",
    "    \n",
    "\n",
    "\n",
    "    while True:\n",
    "        n = int(input(\"Enter a number of data: \"))\n",
    "        if n==-1:\n",
    "            break\n",
    "\n",
    "        \n",
    "        data = []\n",
    "        \n",
    "        for i in range(n):\n",
    "            numbers = random.randint(0, n)\n",
    "            data.append(numbers)\n",
    "\n",
    "        d = copy.deepcopy(data)\n",
    "        startTime = time.time()\n",
    "        ShellSort(d)\n",
    "        endTime = time.time()\n",
    "        print(\"Shell sort elapsed time: %.3f seconds\" %(endTime - startTime))\n",
    "\n",
    "        startTime = time.time()\n",
    "        heapSort(d)\n",
    "        endTime = time.time()\n",
    "        print(\"Heap sort elapsed time: %.3f seconds\" %(endTime - startTime))\n",
    "\n",
    "        startTime = time.time()\n",
    "        mergeSort(d)\n",
    "        endTime = time.time()\n",
    "        print(\"Merge sort elapsed time: %.3f seconds\" %(endTime - startTime))\n",
    "\n",
    "\n",
    "        \n",
    "        startTime = time.time()\n",
    "        d.sort()\n",
    "        endTime = time.time()\n",
    "        print(\"Python sort elapsed time: %.3f seconds\" %(endTime - startTime))\n",
    "        print(\" \")\n",
    "\n",
    "\n",
    "    \n",
    "\n",
    "\n"
   ]
  },
  {
   "cell_type": "code",
   "execution_count": 23,
   "metadata": {},
   "outputs": [
    {
     "name": "stdout",
     "output_type": "stream",
     "text": [
      "Bubble sort elapsed time: 0.229 seconds\n",
      "Selection sort elapsed time: 0.055 seconds\n",
      "Insertion sort elapsed time: 0.000 seconds\n",
      "Python sort elapsed time: 0.000 seconds\n",
      " \n",
      "Bubble sort elapsed time: 3.024 seconds\n",
      "Selection sort elapsed time: 1.112 seconds\n",
      "Insertion sort elapsed time: 0.001 seconds\n",
      "Python sort elapsed time: 0.000 seconds\n",
      " \n",
      "Bubble sort elapsed time: 12.623 seconds\n",
      "Selection sort elapsed time: 4.901 seconds\n",
      "Insertion sort elapsed time: 0.002 seconds\n",
      "Python sort elapsed time: 0.001 seconds\n",
      " \n"
     ]
    }
   ],
   "source": [
    "main()"
   ]
  }
 ],
 "metadata": {
  "interpreter": {
   "hash": "41ec41ed2208f8daa2a21ceb58f25882d6379e3c810e7cedd0381cf666f85958"
  },
  "kernelspec": {
   "display_name": "Python 3.8.8 64-bit ('base': conda)",
   "name": "python3"
  },
  "language_info": {
   "codemirror_mode": {
    "name": "ipython",
    "version": 3
   },
   "file_extension": ".py",
   "mimetype": "text/x-python",
   "name": "python",
   "nbconvert_exporter": "python",
   "pygments_lexer": "ipython3",
   "version": "3.8.8"
  },
  "orig_nbformat": 4
 },
 "nbformat": 4,
 "nbformat_minor": 2
}
