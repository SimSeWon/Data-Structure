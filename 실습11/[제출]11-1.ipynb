{
 "cells": [
  {
   "cell_type": "code",
   "execution_count": 5,
   "metadata": {},
   "outputs": [],
   "source": [
    "import random\n",
    "import copy\n",
    "\n",
    "def main():\n",
    "    n=int(input(\"Enter a number of data: \"))\n",
    "    data=[]\n",
    "    for i in range(n):\n",
    "        numbers=random.randint(0,n)\n",
    "        data.append(numbers)\n",
    "    \n",
    "    d=copy.deepcopy(data)\n",
    "    print(\"Before shell sort:\\t\",d)\n",
    "    shellSort(d)\n",
    "    print('After shell sort:\\t',d)\n",
    "    \n",
    "    d=copy.deepcopy(data)\n",
    "    print('\\nBefore heap sort:\\t',d)\n",
    "    heapSort(d)\n",
    "    print('After heap sort:\\t',d)\n",
    "\n",
    "    d=copy.deepcopy(data)\n",
    "    print('\\nBefore merge sort:\\t',d)\n",
    "    mergeSort(d)\n",
    "    print('After merge sort:\\t',d)\n",
    "\n",
    "    d=copy.deepcopy(data)\n",
    "    print('\\nBefore quick sort:\\t',d)\n",
    "    quickSort(d,0,len(d)-1)\n",
    "    print('After quick sort:\\t',d)\n",
    "\n"
   ]
  },
  {
   "cell_type": "code",
   "execution_count": 16,
   "metadata": {},
   "outputs": [],
   "source": [
    "def shellSort(A):\n",
    "    n=len(A)\n",
    "    gap=n//2\n",
    "    while gap>0:\n",
    "        if (gap%2)==0:\n",
    "            gap+=1\n",
    "        for i in range(gap):\n",
    "            sortGapInsertion(A,i,n-1,gap)\n",
    "            #print('Gap=',gap,A)\n",
    "        gap=gap//2\n",
    "\n",
    "def sortGapInsertion(A, first, last, gap):\n",
    "    for i in range(first+gap, last+1, gap):\n",
    "        key=A[i]\n",
    "        j=i-gap\n",
    "        while j>=first and key<A[j]:\n",
    "            A[j+gap]=A[j]\n",
    "            j=j-gap\n",
    "        A[j+gap]=key\n",
    "        "
   ]
  },
  {
   "cell_type": "code",
   "execution_count": 22,
   "metadata": {},
   "outputs": [],
   "source": [
    "def heapSort(arr):\n",
    "    n=len(arr)\n",
    "    for i in range(n//2,-1,-1):\n",
    "        heapify(arr,n,i)\n",
    "    #print()\n",
    "\n",
    "    for i in range(n-1,0,-1):\n",
    "        arr[i],arr[0]=arr[0],arr[1]\n",
    "        heapify(arr,i,0)\n",
    "\n",
    "def heapify(arr,n,i):\n",
    "    largest=i\n",
    "    l=2*i+1\n",
    "    r=2*i+2\n",
    "\n",
    "    if l<n and arr[i]<arr[l]:\n",
    "        largest=1\n",
    "    if r<n and arr[largest]<arr[r]:\n",
    "        largest=r\n",
    "        if largest!=i:\n",
    "            arr[i],arr[largest]=arr[largest],arr[i]\n",
    "            heapify(arr,n,largest)\n",
    "\n"
   ]
  },
  {
   "cell_type": "code",
   "execution_count": 18,
   "metadata": {},
   "outputs": [],
   "source": [
    "def mergeSort(A):\n",
    "    if len(A)>1:\n",
    "        mid=len(A)//2\n",
    "        left=A[:mid]\n",
    "        right=A[mid:]\n",
    "        mergeSort(left)\n",
    "        mergeSort(right)\n",
    "        merge(A,left,right)\n",
    "\n",
    "def merge(A,left,right):\n",
    "    i=0\n",
    "    j=0\n",
    "    k=0\n",
    "    while i<len(left) and j<len(right):\n",
    "        if left[i]<right[j]:\n",
    "            A[k]=left[i]\n",
    "            k,i=k+1,i+1\n",
    "        else:\n",
    "            A[k]=left[i]\n",
    "            k,j=k+1,j+1\n",
    "    while i<len(left):\n",
    "        A[k]=left[i]\n",
    "        k,i=k+1,i+1\n",
    "    while j<len(right):\n",
    "        A[k]=right[j]\n",
    "        k,j=k+1,j+1\n"
   ]
  },
  {
   "cell_type": "code",
   "execution_count": 20,
   "metadata": {},
   "outputs": [],
   "source": [
    "def quickSort(A,left,right):\n",
    "    if left<right:\n",
    "        q=partition(A,left,right)\n",
    "        quickSort(A,left,q-1)\n",
    "        quickSort(A,q+1,right)\n",
    "        \n",
    "def partition(A,left,right):\n",
    "    low=left+1\n",
    "    high=right\n",
    "    pivot=A[left]\n",
    "    while (low<=high):\n",
    "        while low<=right and A[low]<pivot:\n",
    "            low+=1\n",
    "        while high>=left and A[high]>pivot:\n",
    "            high-=1\n",
    "        \n",
    "        if low<high:\n",
    "            A[low],A[high]=A[high],A[low]\n",
    "            low,high=low+1,high-1\n",
    "        else:\n",
    "            break\n",
    "    \n",
    "    A[left],A[high]=A[high],A[left]\n",
    "    return high\n",
    "\n"
   ]
  },
  {
   "cell_type": "code",
   "execution_count": 23,
   "metadata": {},
   "outputs": [
    {
     "name": "stdout",
     "output_type": "stream",
     "text": [
      "Before shell sort:\t [14, 10, 14, 0, 5, 5, 12, 13, 5, 11, 7, 3, 10, 14, 15]\n",
      "After shell sort:\t [0, 3, 5, 5, 5, 7, 10, 10, 11, 12, 13, 14, 14, 14, 15]\n",
      "\n",
      "Before heap sort:\t [14, 10, 14, 0, 5, 5, 12, 13, 5, 11, 7, 3, 10, 14, 15]\n",
      "After heap sort:\t [10, 10, 10, 10, 10, 10, 10, 10, 10, 10, 10, 10, 14, 14, 15]\n",
      "\n",
      "Before merge sort:\t [14, 10, 14, 0, 5, 5, 12, 13, 5, 11, 7, 3, 10, 14, 15]\n",
      "After merge sort:\t [14, 14, 14, 14, 14, 14, 14, 14, 14, 14, 14, 14, 14, 14, 15]\n",
      "\n",
      "Before quick sort:\t [14, 10, 14, 0, 5, 5, 12, 13, 5, 11, 7, 3, 10, 14, 15]\n",
      "After quick sort:\t [0, 3, 5, 5, 5, 7, 10, 10, 11, 12, 13, 14, 14, 14, 15]\n"
     ]
    }
   ],
   "source": [
    "main()"
   ]
  }
 ],
 "metadata": {
  "interpreter": {
   "hash": "0fea75d5e844868cc8b5bd72f8cf76e44414c91bd25e3208cd81b3fe732ddab2"
  },
  "kernelspec": {
   "display_name": "Python 3.7.6 64-bit ('base': conda)",
   "language": "python",
   "name": "python3"
  },
  "language_info": {
   "codemirror_mode": {
    "name": "ipython",
    "version": 3
   },
   "file_extension": ".py",
   "mimetype": "text/x-python",
   "name": "python",
   "nbconvert_exporter": "python",
   "pygments_lexer": "ipython3",
   "version": "3.7.6"
  },
  "orig_nbformat": 4
 },
 "nbformat": 4,
 "nbformat_minor": 2
}
